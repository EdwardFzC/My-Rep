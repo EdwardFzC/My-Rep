{
 "cells": [
  {
   "cell_type": "markdown",
   "metadata": {},
   "source": [
    "## Web Scraping Trading View Screener"
   ]
  },
  {
   "cell_type": "markdown",
   "metadata": {},
   "source": [
    "#### Limitations: Only can get the base data from the page, not posible to get the others interior tabs or  buttons than the overview"
   ]
  },
  {
   "cell_type": "code",
   "execution_count": 2,
   "metadata": {},
   "outputs": [],
   "source": [
    "import requests\n",
    "from bs4 import BeautifulSoup\n",
    "import pandas as pd"
   ]
  },
  {
   "cell_type": "code",
   "execution_count": 3,
   "metadata": {},
   "outputs": [],
   "source": [
    "# Diccionario de screeners y sus respectivas partes de URL\n",
    "screeners = {\n",
    "    \"all_index\": \"markets/indices/quotes-all/\",\n",
    "    \"major_index\": \"markets/indices/quotes-major/\",\n",
    "    \"us_index\": \"markets/indices/quotes-us/\",\n",
    "    \"snp_index\": \"markets/indices/quotes-snp/\",\n",
    "    \"currency_index\": \"markets/indices/quotes-currency/\",\n",
    "    \"all_stocks_US\": \"markets/stocks-usa/market-movers-all-stocks/\"\n",
    "}\n",
    "# Selección del screener\n",
    "screener_selected = \"all_stocks_US\"\n",
    "base_url = \"https://en.tradingview.com/\"\n",
    "url = base_url + screeners[screener_selected]\n"
   ]
  },
  {
   "cell_type": "code",
   "execution_count": 4,
   "metadata": {},
   "outputs": [],
   "source": [
    "def get_response_data(url):\n",
    "    response = requests.get(url)\n",
    "    if response.status_code == 200:\n",
    "        print(\"La petición ha sido exitosa\")\n",
    "        soup = BeautifulSoup(response.content, \"html.parser\")\n",
    "        table = soup.find('table')\n",
    "        if not table:\n",
    "            raise ValueError(\"No se encontró la tabla en la página\")\n",
    "        index = []\n",
    "        for row in table.find_all('tr'):\n",
    "            cols = row.find_all('td')\n",
    "            if cols:\n",
    "                ticker = cols[0].find('a').text\n",
    "                name = cols[0].find('sup').text\n",
    "                other_data = [td.text for td in cols[1:]]\n",
    "                index.append([ticker, name] + other_data)\n",
    "            #index.append([td.text for td in row.find_all('td')])\n",
    "\n",
    "        head = table.find_all('tr')[0].find_all('th')\n",
    "        head = [th.text for th in head]\n",
    "        head = ['Ticker', 'Nombre'] + head[1:]\n",
    "        data= pd.DataFrame(index, columns=head)\n",
    "        return data\n",
    "    else: \n",
    "        print(\"Error en la petición\")\n",
    "    "
   ]
  },
  {
   "cell_type": "code",
   "execution_count": 86,
   "metadata": {},
   "outputs": [
    {
     "data": {
      "text/html": [
       "<div>\n",
       "<style scoped>\n",
       "    .dataframe tbody tr th:only-of-type {\n",
       "        vertical-align: middle;\n",
       "    }\n",
       "\n",
       "    .dataframe tbody tr th {\n",
       "        vertical-align: top;\n",
       "    }\n",
       "\n",
       "    .dataframe thead th {\n",
       "        text-align: right;\n",
       "    }\n",
       "</style>\n",
       "<table border=\"1\" class=\"dataframe\">\n",
       "  <thead>\n",
       "    <tr style=\"text-align: right;\">\n",
       "      <th></th>\n",
       "      <th>Ticker</th>\n",
       "      <th>Nombre</th>\n",
       "      <th>Price</th>\n",
       "      <th>Change %</th>\n",
       "      <th>Volume</th>\n",
       "      <th>Rel Volume</th>\n",
       "      <th>Market cap</th>\n",
       "      <th>P/E</th>\n",
       "      <th>EPS dilTTM</th>\n",
       "      <th>EPS dil growthTTM YoY</th>\n",
       "      <th>Div yield %TTM</th>\n",
       "      <th>Sector</th>\n",
       "      <th>Analyst Rating</th>\n",
       "    </tr>\n",
       "  </thead>\n",
       "  <tbody>\n",
       "    <tr>\n",
       "      <th>0</th>\n",
       "      <td>A</td>\n",
       "      <td>Agilent Technologies, Inc.</td>\n",
       "      <td>137.32 USD</td>\n",
       "      <td>+1.73%</td>\n",
       "      <td>1.718 M</td>\n",
       "      <td>1.06</td>\n",
       "      <td>40.065 B USD</td>\n",
       "      <td>32.45</td>\n",
       "      <td>4.23 USD</td>\n",
       "      <td>−6.72%</td>\n",
       "      <td>0.67%</td>\n",
       "      <td>Commercial services</td>\n",
       "      <td>Neutral</td>\n",
       "    </tr>\n",
       "    <tr>\n",
       "      <th>1</th>\n",
       "      <td>AA</td>\n",
       "      <td>Alcoa Corporation</td>\n",
       "      <td>33.43 USD</td>\n",
       "      <td>+1.58%</td>\n",
       "      <td>5.799 M</td>\n",
       "      <td>0.86</td>\n",
       "      <td>6.003 B USD</td>\n",
       "      <td>—</td>\n",
       "      <td>−3.08 USD</td>\n",
       "      <td>+62.20%</td>\n",
       "      <td>1.20%</td>\n",
       "      <td>Non-energy minerals</td>\n",
       "      <td>Buy</td>\n",
       "    </tr>\n",
       "    <tr>\n",
       "      <th>2</th>\n",
       "      <td>AACI</td>\n",
       "      <td>Armada Acquisition Corp. I</td>\n",
       "      <td>9.55 USD</td>\n",
       "      <td>−15.93%</td>\n",
       "      <td>19.115 K</td>\n",
       "      <td>0.28</td>\n",
       "      <td>68.065 M USD</td>\n",
       "      <td>—</td>\n",
       "      <td>−0.20 USD</td>\n",
       "      <td>−523.34%</td>\n",
       "      <td>0.00%</td>\n",
       "      <td>Finance</td>\n",
       "      <td>—</td>\n",
       "    </tr>\n",
       "    <tr>\n",
       "      <th>3</th>\n",
       "      <td>AACT</td>\n",
       "      <td>Ares Acquisition Corporation II</td>\n",
       "      <td>10.72 USD</td>\n",
       "      <td>−0.05%</td>\n",
       "      <td>232.667 K</td>\n",
       "      <td>1.20</td>\n",
       "      <td>536 M USD</td>\n",
       "      <td>28.75</td>\n",
       "      <td>0.37 USD</td>\n",
       "      <td>—</td>\n",
       "      <td>0.00%</td>\n",
       "      <td>Finance</td>\n",
       "      <td>—</td>\n",
       "    </tr>\n",
       "    <tr>\n",
       "      <th>4</th>\n",
       "      <td>AADI</td>\n",
       "      <td>Aadi Bioscience, Inc.</td>\n",
       "      <td>1.58 USD</td>\n",
       "      <td>−1.86%</td>\n",
       "      <td>139.132 K</td>\n",
       "      <td>1.15</td>\n",
       "      <td>38.796 M USD</td>\n",
       "      <td>—</td>\n",
       "      <td>−2.55 USD</td>\n",
       "      <td>+3.11%</td>\n",
       "      <td>0.00%</td>\n",
       "      <td>Health technology</td>\n",
       "      <td>Strong buy</td>\n",
       "    </tr>\n",
       "  </tbody>\n",
       "</table>\n",
       "</div>"
      ],
      "text/plain": [
       "  Ticker                           Nombre       Price Change %     Volume  \\\n",
       "0      A       Agilent Technologies, Inc.  137.32 USD   +1.73%    1.718 M   \n",
       "1     AA                Alcoa Corporation   33.43 USD   +1.58%    5.799 M   \n",
       "2   AACI       Armada Acquisition Corp. I    9.55 USD  −15.93%   19.115 K   \n",
       "3   AACT  Ares Acquisition Corporation II   10.72 USD   −0.05%  232.667 K   \n",
       "4   AADI            Aadi Bioscience, Inc.    1.58 USD   −1.86%  139.132 K   \n",
       "\n",
       "  Rel Volume    Market cap    P/E EPS dilTTM EPS dil growthTTM YoY  \\\n",
       "0       1.06  40.065 B USD  32.45   4.23 USD                −6.72%   \n",
       "1       0.86   6.003 B USD      —  −3.08 USD               +62.20%   \n",
       "2       0.28  68.065 M USD      —  −0.20 USD              −523.34%   \n",
       "3       1.20     536 M USD  28.75   0.37 USD                     —   \n",
       "4       1.15  38.796 M USD      —  −2.55 USD                +3.11%   \n",
       "\n",
       "  Div yield %TTM               Sector Analyst Rating  \n",
       "0          0.67%  Commercial services        Neutral  \n",
       "1          1.20%  Non-energy minerals            Buy  \n",
       "2          0.00%              Finance              —  \n",
       "3          0.00%              Finance              —  \n",
       "4          0.00%    Health technology     Strong buy  "
      ]
     },
     "execution_count": 86,
     "metadata": {},
     "output_type": "execute_result"
    }
   ],
   "source": [
    "data= get_response_data(response)\n",
    "data.head()"
   ]
  },
  {
   "cell_type": "markdown",
   "metadata": {},
   "source": [
    "## More data"
   ]
  },
  {
   "cell_type": "markdown",
   "metadata": {},
   "source": [
    "### NOT WORKING"
   ]
  },
  {
   "cell_type": "code",
   "execution_count": 8,
   "metadata": {},
   "outputs": [],
   "source": [
    "# Configuración del WebDriver\n",
    "driver_path = r\"chromedriver-win32\\chromedriver.exe\" "
   ]
  },
  {
   "cell_type": "code",
   "execution_count": 68,
   "metadata": {},
   "outputs": [],
   "source": [
    "# Trading view api\n",
    "api = \"https://scanner.tradingview.com/cfd/scan\""
   ]
  },
  {
   "cell_type": "code",
   "execution_count": 69,
   "metadata": {},
   "outputs": [],
   "source": [
    "# Headers\n",
    "headers = {\n",
    "    \"accept\": \"application/json\",\n",
    "    \"accept-encoding\": \"gzip, deflate, br, zstd\",\n",
    "    \"accept-language\": \"es-419,es;q=0.9\",\n",
    "    \"content-type\": \"text/plain;charset=UTF-8\",\n",
    "    \"origin\": \"https://www.tradingview.com\",\n",
    "    \"referer\": \"https://www.tradingview.com/\",\n",
    "    \"sec-ch-ua\": '\"Not)A;Brand\";v=\"99\", \"Google Chrome\";v=\"127\", \"Chromium\";v=\"127\"',\n",
    "    \"sec-ch-ua-mobile\": \"?0\",\n",
    "    \"sec-ch-ua-platform\": '\"Windows\"',\n",
    "    \"sec-fetch-dest\": \"empty\",\n",
    "    \"sec-fetch-mode\": \"cors\",\n",
    "    \"sec-fetch-site\": \"same-site\",\n",
    "    \"user-agent\": \"Mozilla/5.0 (Windows NT 10.0; Win64; x64) AppleWebKit/537.36 (KHTML, like Gecko) Chrome/127.0.0.0 Safari/537.36\",\n",
    "}"
   ]
  },
  {
   "cell_type": "code",
   "execution_count": 70,
   "metadata": {},
   "outputs": [],
   "source": [
    "# Payload de la petición (esto es un ejemplo, ajusta según sea necesario)\n",
    "payload = {\n",
    "    \"filter\": [],\n",
    "    \"options\": {\n",
    "        \"lang\": \"en\"\n",
    "    },\n",
    "    \"markets\": [\n",
    "        \"cfd\"\n",
    "    ],\n",
    "    \"symbols\": {\n",
    "        \"query\": {\n",
    "            \"types\": []\n",
    "        },\n",
    "        \"tickers\": []\n",
    "    },\n",
    "    \"columns\": [\n",
    "        \"logoid\",\n",
    "        \"name\",\n",
    "        \"close\",\n",
    "        \"change\",\n",
    "        \"change_abs\",\n",
    "        \"high\",\n",
    "        \"low\",\n",
    "        \"volume\",\n",
    "        \"recommendation\",\n",
    "        \"description\"\n",
    "    ],\n",
    "    \"sort\": {\n",
    "        \"sortBy\": \"name\",\n",
    "        \"sortOrder\": \"asc\"\n",
    "    },\n",
    "    \"range\": [\n",
    "        0,\n",
    "        100\n",
    "    ]\n",
    "}"
   ]
  },
  {
   "cell_type": "code",
   "execution_count": 71,
   "metadata": {},
   "outputs": [],
   "source": [
    "response = requests.post(url, headers=headers, json=payload)\n",
    "data = response.json()"
   ]
  },
  {
   "cell_type": "code",
   "execution_count": 74,
   "metadata": {},
   "outputs": [
    {
     "data": {
      "text/plain": [
       "{'page_title': 'Major Indices — Quotes and Overview — TradingView',\n",
       " 'page_title_suffix': '',\n",
       " 'wide_page': True,\n",
       " 'division': None,\n",
       " 'show_ads': None,\n",
       " 'pagination': None,\n",
       " 'canonical': {'is_canonical': True,\n",
       "  'url': 'https://www.tradingview.com/markets/indices/quotes-major/'},\n",
       " 'additional_meta': {'robots': {'index': True, 'follow': True},\n",
       "  'open_graph': {'tags': [{'name': 'meta',\n",
       "     'attributes': [{'name': 'property', 'value': 'og:site_name'},\n",
       "      {'name': 'content', 'value': 'TradingView'}],\n",
       "     'pair': False,\n",
       "     'content': None},\n",
       "    {'name': 'meta',\n",
       "     'attributes': [{'name': 'property', 'value': 'og:type'},\n",
       "      {'name': 'content', 'value': 'website'}],\n",
       "     'pair': False,\n",
       "     'content': None}]}},\n",
       " 'show_big_footer': True,\n",
       " 'seo_locale_suffix': '',\n",
       " 'meta_description': 'See major world indices on a cutting-edge financial platform. Check out the latest price updates and sort stock market indices using various metrics.',\n",
       " 'show_hreflang_tags': True,\n",
       " 'path_wo_pagination': '/markets/indices/quotes-major/',\n",
       " 'results': {},\n",
       " 'extra_data': {},\n",
       " 'render_results': {'extra_data': {},\n",
       "  'react_content': '<div class=\"js-base-screener-page-component-root\" data-props-id=\"GNUeVN\"><div class=\"container-SCxmJPkt container-L5As7uOz\"><div class=\"containerDesktopTabs-aBa1CMTV\"><div class=\"scroll-wrap-vgCB17hK overflow-wrap-vgCB17hK\" style=\"--ui-lib-round-tabs-gap:8px\" data-name=\"round-tabs-anchors\"><div id=\"id_screener-page_tablist\" role=\"tablist\" aria-orientation=\"horizontal\" class=\"round-tabs-vgCB17hK align-start-vgCB17hK\"><a id=\"all\" role=\"tab\" tabindex=\"-1\" aria-selected=\"false\" aria-disabled=\"false\" href=\"/markets/indices/quotes-all/\" class=\"round-tab-button-JbssaNvk size-small-JbssaNvk variant-primary-JbssaNvk enable-cursor-pointer-JbssaNvk\"><span class=\"\">All indices</span></a><a id=\"major\" role=\"tab\" tabindex=\"0\" aria-selected=\"true\" aria-disabled=\"false\" href=\"/markets/indices/quotes-major/\" class=\"round-tab-button-JbssaNvk size-small-JbssaNvk variant-primary-JbssaNvk selected-JbssaNvk enable-cursor-pointer-JbssaNvk\"><span class=\"\">Major world indices</span></a><a id=\"us\" role=\"tab\" tabindex=\"-1\" aria-selected=\"false\" aria-disabled=\"false\" href=\"/markets/indices/quotes-us/\" class=\"round-tab-button-JbssaNvk size-small-JbssaNvk variant-primary-JbssaNvk enable-cursor-pointer-JbssaNvk\"><span class=\"\">US indices</span></a><a id=\"snp\" role=\"tab\" tabindex=\"-1\" aria-selected=\"false\" aria-disabled=\"false\" href=\"/markets/indices/quotes-snp/\" class=\"round-tab-button-JbssaNvk size-small-JbssaNvk variant-primary-JbssaNvk enable-cursor-pointer-JbssaNvk\"><span class=\"\">S&amp;P sectors</span></a><a id=\"currency\" role=\"tab\" tabindex=\"-1\" aria-selected=\"false\" aria-disabled=\"false\" href=\"/markets/indices/quotes-currency/\" class=\"round-tab-button-JbssaNvk size-small-JbssaNvk variant-primary-JbssaNvk enable-cursor-pointer-JbssaNvk\"><span class=\"\">Currency indices</span></a></div></div></div><div class=\"containerMobileTabs-aBa1CMTV\"><div class=\"scroll-wrap-vgCB17hK overflow-scroll-vgCB17hK\" style=\"--ui-lib-round-tabs-gap:8px\" data-name=\"round-tabs-anchors\"><div id=\"id_screener-page_tablist\" role=\"tablist\" aria-orientation=\"horizontal\" class=\"round-tabs-vgCB17hK align-start-vgCB17hK\"><a id=\"all\" role=\"tab\" tabindex=\"-1\" aria-selected=\"false\" aria-disabled=\"false\" href=\"/markets/indices/quotes-all/\" class=\"round-tab-button-JbssaNvk size-small-JbssaNvk variant-primary-JbssaNvk enable-cursor-pointer-JbssaNvk\"><span class=\"\">All indices</span></a><a id=\"major\" role=\"tab\" tabindex=\"0\" aria-selected=\"true\" aria-disabled=\"false\" href=\"/markets/indices/quotes-major/\" class=\"round-tab-button-JbssaNvk size-small-JbssaNvk variant-primary-JbssaNvk selected-JbssaNvk enable-cursor-pointer-JbssaNvk\"><span class=\"\">Major world indices</span></a><a id=\"us\" role=\"tab\" tabindex=\"-1\" aria-selected=\"false\" aria-disabled=\"false\" href=\"/markets/indices/quotes-us/\" class=\"round-tab-button-JbssaNvk size-small-JbssaNvk variant-primary-JbssaNvk enable-cursor-pointer-JbssaNvk\"><span class=\"\">US indices</span></a><a id=\"snp\" role=\"tab\" tabindex=\"-1\" aria-selected=\"false\" aria-disabled=\"false\" href=\"/markets/indices/quotes-snp/\" class=\"round-tab-button-JbssaNvk size-small-JbssaNvk variant-primary-JbssaNvk enable-cursor-pointer-JbssaNvk\"><span class=\"\">S&amp;P sectors</span></a><a id=\"currency\" role=\"tab\" tabindex=\"-1\" aria-selected=\"false\" aria-disabled=\"false\" href=\"/markets/indices/quotes-currency/\" class=\"round-tab-button-JbssaNvk size-small-JbssaNvk variant-primary-JbssaNvk enable-cursor-pointer-JbssaNvk\"><span class=\"\">Currency indices</span></a></div></div></div><div class=\"panel-L5As7uOz\"><h1 class=\"titlePanel-L5As7uOz\">Indices of the largest economies</h1><div class=\"descriptionPanel-L5As7uOz\">Major stock indices, like S&amp;P 500, Dow Jones, and Nasdaq, are key indicators managed by global exchanges. They’re calculated using prices or market capitalization and monitored by investors for insights into the overall economy.</div></div><div class=\"root-cFX_j1gd\"><div class=\"marketHeader-JDysp0WY\"><div class=\"columnSetWrapper-lplEt7K5\"><div class=\"scroll-wrap-mf1FlhVw\" data-name=\"square-tabs-buttons\"><div id=\"id_market-screener-header-columnset-tabs_tablist\" role=\"tablist\" aria-orientation=\"horizontal\" class=\"square-tabs-mf1FlhVw size-small-huvpscfz size-small-mf1FlhVw\"><button role=\"tab\" tabindex=\"0\" aria-selected=\"true\" id=\"overview\" class=\"square-tab-button-huvpscfz square-tab-button-mf1FlhVw selected-huvpscfz size-small-huvpscfz size-small-mf1FlhVw\"><span class=\"tab-content-huvpscfz\"><span class=\"content-mf1FlhVw\">Overview</span></span><span aria-hidden=\"true\" class=\"tab-hidden-content-huvpscfz\"><span class=\"content-mf1FlhVw\">Overview</span></span></button><button role=\"tab\" tabindex=\"-1\" aria-selected=\"false\" id=\"performance\" class=\"square-tab-button-huvpscfz square-tab-button-mf1FlhVw size-small-huvpscfz size-small-mf1FlhVw\"><span class=\"tab-content-huvpscfz\"><span class=\"content-mf1FlhVw\">Performance</span></span><span aria-hidden=\"true\" class=\"tab-hidden-content-huvpscfz\"><span class=\"content-mf1FlhVw\">Performance</span></span></button><button role=\"tab\" tabindex=\"-1\" aria-selected=\"false\" id=\"technicals\" class=\"square-tab-button-huvpscfz square-tab-button-mf1FlhVw size-small-huvpscfz size-small-mf1FlhVw\"><span class=\"tab-content-huvpscfz\"><span class=\"content-mf1FlhVw\">Technicals</span></span><span aria-hidden=\"true\" class=\"tab-hidden-content-huvpscfz\"><span class=\"content-mf1FlhVw\">Technicals</span></span></button><button aria-hidden=\"true\" tabindex=\"-1\" class=\"square-tab-button-huvpscfz square-tab-button-mf1FlhVw size-small-huvpscfz size-small-mf1FlhVw fake-huvpscfz\"><span class=\"tab-content-huvpscfz\"><span class=\"content-mf1FlhVw\">More<span class=\"arrow-icon-nV6fm1zO\" role=\"img\" aria-hidden=\"true\"><svg xmlns=\"http://www.w3.org/2000/svg\" viewBox=\"0 0 18 18\" width=\"18\" height=\"18\"><path fill=\"currentColor\" d=\"M3.92 7.83 9 12.29l5.08-4.46-1-1.13L9 10.29l-4.09-3.6-.99 1.14Z\"/></svg></span></span></span><span aria-hidden=\"true\" class=\"tab-hidden-content-huvpscfz\"><span class=\"content-mf1FlhVw\">More<span class=\"arrow-icon-nV6fm1zO\" role=\"img\" aria-hidden=\"true\"><svg xmlns=\"http://www.w3.org/2000/svg\" viewBox=\"0 0 18 18\" width=\"18\" height=\"18\"><path fill=\"currentColor\" d=\"M3.92 7.83 9 12.29l5.08-4.46-1-1.13L9 10.29l-4.09-3.6-.99 1.14Z\"/></svg></span></span></span></button></div></div></div></div><div class=\"shadow-zuRb9wy5\"><div class=\"tableWrapSticky-SfGgNYTG withColumnSetsBar-SfGgNYTG\"></div><div class=\"\"><div class=\"scrollWrap-YjTIfjVd\"><div class=\"stretch-gZJAyxim\"><table class=\"table-Ngq2xrcG\"><thead class=\"tableHead-RHkwFEqU\"><tr class=\"row-RdUXZpkv\"><th class=\"cell-seAzPAHn cell-fixed-RHkwFEqU onscroll-shadow\" data-field=\"Ticker\"><div class=\"cellWrapper-RfwJ5pFm cellContent-seAzPAHn apply-common-tooltip left-RfwJ5pFm\" title=\"Symbol\"><div class=\"tickerCellWrap-cfjBjL5J\"><div class=\"tickerCell-cfjBjL5J\"><div class=\"tickerCellData-cfjBjL5J withDataMatches-cfjBjL5J\"><div class=\"headCellTitle-MSg2GmPp\"><div class=\"upperLine-MSg2GmPp\">Symbol</div></div><span class=\"tickerCellMatches-cfjBjL5J tickerCellMatchesPosition-cfjBjL5J\" data-matches=\"26\"></span></div></div></div></div></th><th class=\"cell-seAzPAHn\" data-field=\"Price\"><div class=\"cellWrapper-RfwJ5pFm cellContent-seAzPAHn apply-common-tooltip right-RfwJ5pFm\" title=\"Price\"><div class=\"headCellTitle-MSg2GmPp\"><div class=\"upperLine-MSg2GmPp\">Price</div></div></div></th><th class=\"cell-seAzPAHn\" data-field=\"Change|TimeResolution1D\"><div class=\"cellWrapper-RfwJ5pFm cellContent-seAzPAHn apply-common-tooltip right-RfwJ5pFm\" title=\"Price Change % 1 day\"><div class=\"headCellTitle-MSg2GmPp\"><div class=\"upperLine-MSg2GmPp\">Change %</div></div></div></th><th class=\"cell-seAzPAHn\" data-field=\"ChangeAbs|TimeResolution1D\"><div class=\"cellWrapper-RfwJ5pFm cellContent-seAzPAHn apply-common-tooltip right-RfwJ5pFm\" title=\"Price Change 1 day\"><div class=\"headCellTitle-MSg2GmPp\"><div class=\"upperLine-MSg2GmPp\">Change</div></div></div></th><th class=\"cell-seAzPAHn\" data-field=\"High|TimeResolution1D\"><div class=\"cellWrapper-RfwJ5pFm cellContent-seAzPAHn apply-common-tooltip right-RfwJ5pFm\" title=\"High 1 day\"><div class=\"headCellTitle-MSg2GmPp\"><div class=\"upperLine-MSg2GmPp\">High</div></div></div></th><th class=\"cell-seAzPAHn\" data-field=\"Low|TimeResolution1D\"><div class=\"cellWrapper-RfwJ5pFm cellContent-seAzPAHn apply-common-tooltip right-RfwJ5pFm\" title=\"Low 1 day\"><div class=\"headCellTitle-MSg2GmPp\"><div class=\"upperLine-MSg2GmPp\">Low</div></div></div></th><th class=\"cell-seAzPAHn\" data-field=\"TechnicalRating|TimeResolution1D\"><div class=\"cellWrapper-RfwJ5pFm cellContent-seAzPAHn apply-common-tooltip left-RfwJ5pFm\" title=\"Technical Rating 1 day\"><div class=\"headCellTitle-MSg2GmPp\"><div class=\"upperLine-MSg2GmPp\">Tech Rating</div></div></div></th></tr></thead><tbody tabindex=\"100\"><tr class=\"row-RdUXZpkv listRow\" data-rowkey=\"SP:SPX\"><td class=\"cell-RLhfr_y4 left-RLhfr_y4 cell-fixed-ZtyEm8a1 onscroll-shadow\"><span class=\"tickerCell-GrtoTeat\"><span></span><img class=\"tv-circle-logo-PsAlMQQF tv-circle-logo--xsmall-PsAlMQQF tickerLogo-GrtoTeat\" crossorigin=\"\" src=\"https://s3-symbol-logo.tradingview.com/indices/s-and-p-500.svg\" alt=\"\"/><a class=\"apply-common-tooltip tickerNameBox-GrtoTeat tickerName-GrtoTeat\" title=\"SPX − S&amp;P 500\" href=\"/symbols/SP-SPX/\" target=\"_blank\">SPX</a><sup class=\"apply-common-tooltip tickerDescription-GrtoTeat\" title=\"S&amp;P 500\">S&amp;P 500</sup></span></td><td class=\"cell-RLhfr_y4 right-RLhfr_y4\">5,459.09</td><td class=\"cell-RLhfr_y4 right-RLhfr_y4\"><span class=\"positive-p_QIAEOQ\">+1.11%</span></td><td class=\"cell-RLhfr_y4 right-RLhfr_y4\"><span class=\"positive-YXaj5m4M\">59.86</span></td><td class=\"cell-RLhfr_y4 right-RLhfr_y4\">5,488.32</td><td class=\"cell-RLhfr_y4 right-RLhfr_y4\">5,430.70</td><td class=\"cell-RLhfr_y4 left-RLhfr_y4\"><div class=\"container-ibwgrGVw neutral-ibwgrGVw\"><span class=\"ratingIcon-ibwgrGVw\" role=\"img\" aria-hidden=\"true\"><svg xmlns=\"http://www.w3.org/2000/svg\" viewBox=\"0 0 18 18\" width=\"18\" height=\"18\"><path fill=\"currentColor\" d=\"M5 9h9v1H5V9Z\"/></svg></span>Neutral</div></td></tr><tr class=\"row-RdUXZpkv listRow\" data-rowkey=\"TVC:IXIC\"><td class=\"cell-RLhfr_y4 left-RLhfr_y4 cell-fixed-ZtyEm8a1 onscroll-shadow\"><span class=\"tickerCell-GrtoTeat\"><span></span><img class=\"tv-circle-logo-PsAlMQQF tv-circle-logo--xsmall-PsAlMQQF tickerLogo-GrtoTeat\" crossorigin=\"\" src=\"https://s3-symbol-logo.tradingview.com/indices/nasdaq-composite.svg\" alt=\"\"/><a class=\"apply-common-tooltip tickerNameBox-GrtoTeat tickerName-GrtoTeat\" title=\"IXIC − US Composite Index\" href=\"/symbols/TVC-IXIC/\" target=\"_blank\">IXIC</a><sup class=\"apply-common-tooltip tickerDescription-GrtoTeat\" title=\"US Composite Index\">US Composite Index</sup></span></td><td class=\"cell-RLhfr_y4 right-RLhfr_y4\">17,357.88</td><td class=\"cell-RLhfr_y4 right-RLhfr_y4\"><span class=\"positive-p_QIAEOQ\">+1.03%</span></td><td class=\"cell-RLhfr_y4 right-RLhfr_y4\"><span class=\"positive-YXaj5m4M\">176.16</span></td><td class=\"cell-RLhfr_y4 right-RLhfr_y4\">17,454.57</td><td class=\"cell-RLhfr_y4 right-RLhfr_y4\">17,239.99</td><td class=\"cell-RLhfr_y4 left-RLhfr_y4\"><div class=\"container-ibwgrGVw neutral-ibwgrGVw\"><span class=\"ratingIcon-ibwgrGVw\" role=\"img\" aria-hidden=\"true\"><svg xmlns=\"http://www.w3.org/2000/svg\" viewBox=\"0 0 18 18\" width=\"18\" height=\"18\"><path fill=\"currentColor\" d=\"M5 9h9v1H5V9Z\"/></svg></span>Neutral</div></td></tr><tr class=\"row-RdUXZpkv listRow\" data-rowkey=\"DJ:DJI\"><td class=\"cell-RLhfr_y4 left-RLhfr_y4 cell-fixed-ZtyEm8a1 onscroll-shadow\"><span class=\"tickerCell-GrtoTeat\"><span></span><img class=\"tv-circle-logo-PsAlMQQF tv-circle-logo--xsmall-PsAlMQQF tickerLogo-GrtoTeat\" crossorigin=\"\" src=\"https://s3-symbol-logo.tradingview.com/indices/dow-30.svg\" alt=\"\"/><a class=\"apply-common-tooltip tickerNameBox-GrtoTeat tickerName-GrtoTeat\" title=\"DJI − Dow Jones Industrial Average Index\" href=\"/symbols/DJ-DJI/\" target=\"_blank\">DJI</a><sup class=\"apply-common-tooltip tickerDescription-GrtoTeat\" title=\"Dow Jones Industrial Average Index\">Dow Jones Industrial Average Index</sup></span></td><td class=\"cell-RLhfr_y4 right-RLhfr_y4\">40,589.35</td><td class=\"cell-RLhfr_y4 right-RLhfr_y4\"><span class=\"positive-p_QIAEOQ\">+1.64%</span></td><td class=\"cell-RLhfr_y4 right-RLhfr_y4\"><span class=\"positive-YXaj5m4M\">654.27</span></td><td class=\"cell-RLhfr_y4 right-RLhfr_y4\">40,753.83</td><td class=\"cell-RLhfr_y4 right-RLhfr_y4\">40,140.86</td><td class=\"cell-RLhfr_y4 left-RLhfr_y4\"><div class=\"container-ibwgrGVw strong_buy-ibwgrGVw\"><span class=\"ratingIcon-ibwgrGVw\" role=\"img\" aria-hidden=\"true\"><svg xmlns=\"http://www.w3.org/2000/svg\" viewBox=\"0 0 18 18\" width=\"18\" height=\"18\"><path fill=\"currentColor\" d=\"M9 3.3 13.7 8l-.7.7-4-4-4 4-.7-.7L9 3.3Zm0 6 4.7 4.7-.7.7-4-4-4 4-.7-.7L9 9.3Z\"/></svg></span>Strong buy</div></td></tr><tr class=\"row-RdUXZpkv listRow\" data-rowkey=\"CBOE:VIX\"><td class=\"cell-RLhfr_y4 left-RLhfr_y4 cell-fixed-ZtyEm8a1 onscroll-shadow\"><span class=\"tickerCell-GrtoTeat\"><span></span><img class=\"tv-circle-logo-PsAlMQQF tv-circle-logo--xsmall-PsAlMQQF tickerLogo-GrtoTeat\" crossorigin=\"\" src=\"https://s3-symbol-logo.tradingview.com/indices/volatility-s-and-p-500.svg\" alt=\"\"/><a class=\"apply-common-tooltip tickerNameBox-GrtoTeat tickerName-GrtoTeat\" title=\"VIX − CBOE Volatility Index\" href=\"/symbols/CBOE-VIX/\" target=\"_blank\">VIX</a><sup class=\"apply-common-tooltip tickerDescription-GrtoTeat\" title=\"CBOE Volatility Index\">CBOE Volatility Index</sup><div class=\"marksContainer-doWAzK97\"><span class=\"dataMode-FRcSVmGO\"></span></div></span></td><td class=\"cell-RLhfr_y4 right-RLhfr_y4\">16.39</td><td class=\"cell-RLhfr_y4 right-RLhfr_y4\"><span class=\"negative-p_QIAEOQ\">−11.21%</span></td><td class=\"cell-RLhfr_y4 right-RLhfr_y4\"><span class=\"negative-YXaj5m4M\">−2.07</span></td><td class=\"cell-RLhfr_y4 right-RLhfr_y4\">18.05</td><td class=\"cell-RLhfr_y4 right-RLhfr_y4\">16.37</td><td class=\"cell-RLhfr_y4 left-RLhfr_y4\"><div class=\"container-ibwgrGVw buy-ibwgrGVw\"><span class=\"ratingIcon-ibwgrGVw\" role=\"img\" aria-hidden=\"true\"><svg xmlns=\"http://www.w3.org/2000/svg\" viewBox=\"0 0 18 18\" width=\"18\" height=\"18\"><path fill=\"currentColor\" d=\"m4.67 10.62.66.76L9 8.16l3.67 3.22.66-.76L9 6.84l-4.33 3.78Z\"/></svg></span>Buy</div></td></tr><tr class=\"row-RdUXZpkv listRow\" data-rowkey=\"TSX:TSX\"><td class=\"cell-RLhfr_y4 left-RLhfr_y4 cell-fixed-ZtyEm8a1 onscroll-shadow\"><span class=\"tickerCell-GrtoTeat\"><span></span><img class=\"tv-circle-logo-PsAlMQQF tv-circle-logo--xsmall-PsAlMQQF tickerLogo-GrtoTeat\" crossorigin=\"\" src=\"https://s3-symbol-logo.tradingview.com/indices/s-and-p-tsx-composite-index.svg\" alt=\"\"/><a class=\"apply-common-tooltip tickerNameBox-GrtoTeat tickerName-GrtoTeat\" title=\"TSX − S&amp;P/TSX Composite index\" href=\"/symbols/TSX-TSX/\" target=\"_blank\">TSX</a><sup class=\"apply-common-tooltip tickerDescription-GrtoTeat\" title=\"S&amp;P/TSX Composite index\">S&amp;P/TSX Composite index</sup><div class=\"marksContainer-doWAzK97\"><span class=\"dataMode-FRcSVmGO\"></span></div></span></td><td class=\"cell-RLhfr_y4 right-RLhfr_y4\">22,814.81</td><td class=\"cell-RLhfr_y4 right-RLhfr_y4\"><span class=\"positive-p_QIAEOQ\">+0.91%</span></td><td class=\"cell-RLhfr_y4 right-RLhfr_y4\"><span class=\"positive-YXaj5m4M\">206.78</span></td><td class=\"cell-RLhfr_y4 right-RLhfr_y4\">22,843.22</td><td class=\"cell-RLhfr_y4 right-RLhfr_y4\">22,683.88</td><td class=\"cell-RLhfr_y4 left-RLhfr_y4\"><div class=\"container-ibwgrGVw strong_buy-ibwgrGVw\"><span class=\"ratingIcon-ibwgrGVw\" role=\"img\" aria-hidden=\"true\"><svg xmlns=\"http://www.w3.org/2000/svg\" viewBox=\"0 0 18 18\" width=\"18\" height=\"18\"><path fill=\"currentColor\" d=\"M9 3.3 13.7 8l-.7.7-4-4-4 4-.7-.7L9 3.3Zm0 6 4.7 4.7-.7.7-4-4-4 4-.7-.7L9 9.3Z\"/></svg></span>Strong buy</div></td></tr><tr class=\"row-RdUXZpkv listRow\" data-rowkey=\"TVC:UKX\"><td class=\"cell-RLhfr_y4 left-RLhfr_y4 cell-fixed-ZtyEm8a1 onscroll-shadow\"><span class=\"tickerCell-GrtoTeat\"><span></span><img class=\"tv-circle-logo-PsAlMQQF tv-circle-logo--xsmall-PsAlMQQF tickerLogo-GrtoTeat\" crossorigin=\"\" src=\"https://s3-symbol-logo.tradingview.com/indices/uk-100.svg\" alt=\"\"/><a class=\"apply-common-tooltip tickerNameBox-GrtoTeat tickerName-GrtoTeat\" title=\"UKX − UK 100 INDEX\" href=\"/symbols/TVC-UKX/\" target=\"_blank\">UKX</a><sup class=\"apply-common-tooltip tickerDescription-GrtoTeat\" title=\"UK 100 INDEX\">UK 100 INDEX</sup></span></td><td class=\"cell-RLhfr_y4 right-RLhfr_y4\">8,285.70</td><td class=\"cell-RLhfr_y4 right-RLhfr_y4\"><span class=\"positive-p_QIAEOQ\">+1.21%</span></td><td class=\"cell-RLhfr_y4 right-RLhfr_y4\"><span class=\"positive-YXaj5m4M\">99.34</span></td><td class=\"cell-RLhfr_y4 right-RLhfr_y4\">8,290.33</td><td class=\"cell-RLhfr_y4 right-RLhfr_y4\">8,181.23</td><td class=\"cell-RLhfr_y4 left-RLhfr_y4\"><div class=\"container-ibwgrGVw strong_buy-ibwgrGVw\"><span class=\"ratingIcon-ibwgrGVw\" role=\"img\" aria-hidden=\"true\"><svg xmlns=\"http://www.w3.org/2000/svg\" viewBox=\"0 0 18 18\" width=\"18\" height=\"18\"><path fill=\"currentColor\" d=\"M9 3.3 13.7 8l-.7.7-4-4-4 4-.7-.7L9 3.3Zm0 6 4.7 4.7-.7.7-4-4-4 4-.7-.7L9 9.3Z\"/></svg></span>Strong buy</div></td></tr><tr class=\"row-RdUXZpkv listRow\" data-rowkey=\"XETR:DAX\"><td class=\"cell-RLhfr_y4 left-RLhfr_y4 cell-fixed-ZtyEm8a1 onscroll-shadow\"><span class=\"tickerCell-GrtoTeat\"><span></span><img class=\"tv-circle-logo-PsAlMQQF tv-circle-logo--xsmall-PsAlMQQF tickerLogo-GrtoTeat\" crossorigin=\"\" src=\"https://s3-symbol-logo.tradingview.com/indices/dax.svg\" alt=\"\"/><a class=\"apply-common-tooltip tickerNameBox-GrtoTeat tickerName-GrtoTeat\" title=\"DAX − DAX Index\" href=\"/symbols/XETR-DAX/\" target=\"_blank\">DAX</a><sup class=\"apply-common-tooltip tickerDescription-GrtoTeat\" title=\"DAX Index\">DAX Index</sup><div class=\"marksContainer-doWAzK97\"><span class=\"dataMode-FRcSVmGO\"></span></div></span></td><td class=\"cell-RLhfr_y4 right-RLhfr_y4\">18,417.55</td><td class=\"cell-RLhfr_y4 right-RLhfr_y4\"><span class=\"positive-p_QIAEOQ\">+0.65%</span></td><td class=\"cell-RLhfr_y4 right-RLhfr_y4\"><span class=\"positive-YXaj5m4M\">118.83</span></td><td class=\"cell-RLhfr_y4 right-RLhfr_y4\">18,428.88</td><td class=\"cell-RLhfr_y4 right-RLhfr_y4\">18,218.54</td><td class=\"cell-RLhfr_y4 left-RLhfr_y4\"><div class=\"container-ibwgrGVw buy-ibwgrGVw\"><span class=\"ratingIcon-ibwgrGVw\" role=\"img\" aria-hidden=\"true\"><svg xmlns=\"http://www.w3.org/2000/svg\" viewBox=\"0 0 18 18\" width=\"18\" height=\"18\"><path fill=\"currentColor\" d=\"m4.67 10.62.66.76L9 8.16l3.67 3.22.66-.76L9 6.84l-4.33 3.78Z\"/></svg></span>Buy</div></td></tr><tr class=\"row-RdUXZpkv listRow\" data-rowkey=\"EURONEXT:PX1\"><td class=\"cell-RLhfr_y4 left-RLhfr_y4 cell-fixed-ZtyEm8a1 onscroll-shadow\"><span class=\"tickerCell-GrtoTeat\"><span></span><img class=\"tv-circle-logo-PsAlMQQF tv-circle-logo--xsmall-PsAlMQQF tickerLogo-GrtoTeat\" crossorigin=\"\" src=\"https://s3-symbol-logo.tradingview.com/indices/cac-40.svg\" alt=\"\"/><a class=\"apply-common-tooltip tickerNameBox-GrtoTeat tickerName-GrtoTeat\" title=\"PX1 − CAC 40 Index\" href=\"/symbols/EURONEXT-PX1/\" target=\"_blank\">PX1</a><sup class=\"apply-common-tooltip tickerDescription-GrtoTeat\" title=\"CAC 40 Index\">CAC 40 Index</sup><div class=\"marksContainer-doWAzK97\"><span class=\"dataMode-FRcSVmGO\"></span></div></span></td><td class=\"cell-RLhfr_y4 right-RLhfr_y4\">7,517.68</td><td class=\"cell-RLhfr_y4 right-RLhfr_y4\"><span class=\"positive-p_QIAEOQ\">+1.22%</span></td><td class=\"cell-RLhfr_y4 right-RLhfr_y4\"><span class=\"positive-YXaj5m4M\">90.66</span></td><td class=\"cell-RLhfr_y4 right-RLhfr_y4\">7,526.27</td><td class=\"cell-RLhfr_y4 right-RLhfr_y4\">7,427.47</td><td class=\"cell-RLhfr_y4 left-RLhfr_y4\"><div class=\"container-ibwgrGVw sell-ibwgrGVw\"><span class=\"ratingIcon-ibwgrGVw\" role=\"img\" aria-hidden=\"true\"><svg xmlns=\"http://www.w3.org/2000/svg\" viewBox=\"0 0 18 18\" width=\"18\" height=\"18\"><path fill=\"currentColor\" d=\"m4.67 7.38.66-.76L9 9.84l3.67-3.22.66.76L9 11.16 4.67 7.38Z\"/></svg></span>Sell</div></td></tr><tr class=\"row-RdUXZpkv listRow\" data-rowkey=\"TVC:FTMIB\"><td class=\"cell-RLhfr_y4 left-RLhfr_y4 cell-fixed-ZtyEm8a1 onscroll-shadow\"><span class=\"tickerCell-GrtoTeat\"><span></span><img class=\"tv-circle-logo-PsAlMQQF tv-circle-logo--xsmall-PsAlMQQF tickerLogo-GrtoTeat\" crossorigin=\"\" src=\"https://s3-symbol-logo.tradingview.com/indices/ftse-mib.svg\" alt=\"\"/><a class=\"apply-common-tooltip tickerNameBox-GrtoTeat tickerName-GrtoTeat\" title=\"FTMIB − MILANO ITALIA BORSA INDEX\" href=\"/symbols/TVC-FTMIB/\" target=\"_blank\">FTMIB</a><sup class=\"apply-common-tooltip tickerDescription-GrtoTeat\" title=\"MILANO ITALIA BORSA INDEX\">MILANO ITALIA BORSA INDEX</sup></span></td><td class=\"cell-RLhfr_y4 right-RLhfr_y4\">33,812.45</td><td class=\"cell-RLhfr_y4 right-RLhfr_y4\"><span class=\"positive-p_QIAEOQ\">+0.12%</span></td><td class=\"cell-RLhfr_y4 right-RLhfr_y4\"><span class=\"positive-YXaj5m4M\">41.39</span></td><td class=\"cell-RLhfr_y4 right-RLhfr_y4\">33,888.82</td><td class=\"cell-RLhfr_y4 right-RLhfr_y4\">33,675.86</td><td class=\"cell-RLhfr_y4 left-RLhfr_y4\"><div class=\"container-ibwgrGVw sell-ibwgrGVw\"><span class=\"ratingIcon-ibwgrGVw\" role=\"img\" aria-hidden=\"true\"><svg xmlns=\"http://www.w3.org/2000/svg\" viewBox=\"0 0 18 18\" width=\"18\" height=\"18\"><path fill=\"currentColor\" d=\"m4.67 7.38.66-.76L9 9.84l3.67-3.22.66.76L9 11.16 4.67 7.38Z\"/></svg></span>Sell</div></td></tr><tr class=\"row-RdUXZpkv listRow\" data-rowkey=\"TVC:NI225\"><td class=\"cell-RLhfr_y4 left-RLhfr_y4 cell-fixed-ZtyEm8a1 onscroll-shadow\"><span class=\"tickerCell-GrtoTeat\"><span></span><img class=\"tv-circle-logo-PsAlMQQF tv-circle-logo--xsmall-PsAlMQQF tickerLogo-GrtoTeat\" crossorigin=\"\" src=\"https://s3-symbol-logo.tradingview.com/indices/nikkei-225.svg\" alt=\"\"/><a class=\"apply-common-tooltip tickerNameBox-GrtoTeat tickerName-GrtoTeat\" title=\"NI225 − Nikkei 225 Index\" href=\"/symbols/TVC-NI225/\" target=\"_blank\">NI225</a><sup class=\"apply-common-tooltip tickerDescription-GrtoTeat\" title=\"Nikkei 225 Index\">Nikkei 225 Index</sup></span></td><td class=\"cell-RLhfr_y4 right-RLhfr_y4\">38,415.70</td><td class=\"cell-RLhfr_y4 right-RLhfr_y4\"><span class=\"positive-p_QIAEOQ\">+1.99%</span></td><td class=\"cell-RLhfr_y4 right-RLhfr_y4\"><span class=\"positive-YXaj5m4M\">748.36</span></td><td class=\"cell-RLhfr_y4 right-RLhfr_y4\">38,719.70</td><td class=\"cell-RLhfr_y4 right-RLhfr_y4\">38,010.01</td><td class=\"cell-RLhfr_y4 left-RLhfr_y4\"><div class=\"container-ibwgrGVw sell-ibwgrGVw\"><span class=\"ratingIcon-ibwgrGVw\" role=\"img\" aria-hidden=\"true\"><svg xmlns=\"http://www.w3.org/2000/svg\" viewBox=\"0 0 18 18\" width=\"18\" height=\"18\"><path fill=\"currentColor\" d=\"m4.67 7.38.66-.76L9 9.84l3.67-3.22.66.76L9 11.16 4.67 7.38Z\"/></svg></span>Sell</div></td></tr><tr class=\"row-RdUXZpkv listRow\" data-rowkey=\"TVC:KOSPI\"><td class=\"cell-RLhfr_y4 left-RLhfr_y4 cell-fixed-ZtyEm8a1 onscroll-shadow\"><span class=\"tickerCell-GrtoTeat\"><span></span><img class=\"tv-circle-logo-PsAlMQQF tv-circle-logo--xsmall-PsAlMQQF tickerLogo-GrtoTeat\" crossorigin=\"\" src=\"https://s3-symbol-logo.tradingview.com/indices/korea-composite-index.svg\" alt=\"\"/><a class=\"apply-common-tooltip tickerNameBox-GrtoTeat tickerName-GrtoTeat\" title=\"KOSPI − KOREA COMPOSITE STOCK PRICE INDEX (KOSPI)\" href=\"/symbols/TVC-KOSPI/\" target=\"_blank\">KOSPI</a><sup class=\"apply-common-tooltip tickerDescription-GrtoTeat\" title=\"KOREA COMPOSITE STOCK PRICE INDEX (KOSPI)\">KOREA COMPOSITE STOCK PRICE INDEX (KOSPI)</sup></span></td><td class=\"cell-RLhfr_y4 right-RLhfr_y4\">2,763.43</td><td class=\"cell-RLhfr_y4 right-RLhfr_y4\"><span class=\"positive-p_QIAEOQ\">+1.15%</span></td><td class=\"cell-RLhfr_y4 right-RLhfr_y4\"><span class=\"positive-YXaj5m4M\">31.52</span></td><td class=\"cell-RLhfr_y4 right-RLhfr_y4\">2,776.86</td><td class=\"cell-RLhfr_y4 right-RLhfr_y4\">2,742.69</td><td class=\"cell-RLhfr_y4 left-RLhfr_y4\"><div class=\"container-ibwgrGVw sell-ibwgrGVw\"><span class=\"ratingIcon-ibwgrGVw\" role=\"img\" aria-hidden=\"true\"><svg xmlns=\"http://www.w3.org/2000/svg\" viewBox=\"0 0 18 18\" width=\"18\" height=\"18\"><path fill=\"currentColor\" d=\"m4.67 7.38.66-.76L9 9.84l3.67-3.22.66.76L9 11.16 4.67 7.38Z\"/></svg></span>Sell</div></td></tr><tr class=\"row-RdUXZpkv listRow\" data-rowkey=\"SSE:000001\"><td class=\"cell-RLhfr_y4 left-RLhfr_y4 cell-fixed-ZtyEm8a1 onscroll-shadow\"><span class=\"tickerCell-GrtoTeat\"><span></span><img class=\"tv-circle-logo-PsAlMQQF tv-circle-logo--xsmall-PsAlMQQF tickerLogo-GrtoTeat\" crossorigin=\"\" src=\"https://s3-symbol-logo.tradingview.com/indices/sse-composite.svg\" alt=\"\"/><a class=\"apply-common-tooltip tickerNameBox-GrtoTeat tickerName-GrtoTeat\" title=\"000001 − SSE Composite Index\" href=\"/symbols/SSE-000001/\" target=\"_blank\">000001</a><sup class=\"apply-common-tooltip tickerDescription-GrtoTeat\" title=\"SSE Composite Index\">SSE Composite Index</sup><div class=\"marksContainer-doWAzK97\"><span class=\"dataMode-FRcSVmGO\"></span></div></span></td><td class=\"cell-RLhfr_y4 right-RLhfr_y4\">2,887.9011</td><td class=\"cell-RLhfr_y4 right-RLhfr_y4\"><span class=\"negative-p_QIAEOQ\">−0.10%</span></td><td class=\"cell-RLhfr_y4 right-RLhfr_y4\"><span class=\"negative-YXaj5m4M\">−2.9961</span></td><td class=\"cell-RLhfr_y4 right-RLhfr_y4\">2,898.0975</td><td class=\"cell-RLhfr_y4 right-RLhfr_y4\">2,878.5825</td><td class=\"cell-RLhfr_y4 left-RLhfr_y4\"><div class=\"container-ibwgrGVw sell-ibwgrGVw\"><span class=\"ratingIcon-ibwgrGVw\" role=\"img\" aria-hidden=\"true\"><svg xmlns=\"http://www.w3.org/2000/svg\" viewBox=\"0 0 18 18\" width=\"18\" height=\"18\"><path fill=\"currentColor\" d=\"m4.67 7.38.66-.76L9 9.84l3.67-3.22.66.76L9 11.16 4.67 7.38Z\"/></svg></span>Sell</div></td></tr><tr class=\"row-RdUXZpkv listRow\" data-rowkey=\"SZSE:399001\"><td class=\"cell-RLhfr_y4 left-RLhfr_y4 cell-fixed-ZtyEm8a1 onscroll-shadow\"><span class=\"tickerCell-GrtoTeat\"><span></span><img class=\"tv-circle-logo-PsAlMQQF tv-circle-logo--xsmall-PsAlMQQF tickerLogo-GrtoTeat\" crossorigin=\"\" src=\"https://s3-symbol-logo.tradingview.com/indices/szse-component-index.svg\" alt=\"\"/><a class=\"apply-common-tooltip tickerNameBox-GrtoTeat tickerName-GrtoTeat\" title=\"399001 − Shenzhen Component Index\" href=\"/symbols/SZSE-399001/\" target=\"_blank\">399001</a><sup class=\"apply-common-tooltip tickerDescription-GrtoTeat\" title=\"Shenzhen Component Index\">Shenzhen Component Index</sup></span></td><td class=\"cell-RLhfr_y4 right-RLhfr_y4\">8,529.1824</td><td class=\"cell-RLhfr_y4 right-RLhfr_y4\"><span class=\"negative-p_QIAEOQ\">−0.79%</span></td><td class=\"cell-RLhfr_y4 right-RLhfr_y4\"><span class=\"negative-YXaj5m4M\">−67.9914</span></td><td class=\"cell-RLhfr_y4 right-RLhfr_y4\">8,589.2751</td><td class=\"cell-RLhfr_y4 right-RLhfr_y4\">8,522.5613</td><td class=\"cell-RLhfr_y4 left-RLhfr_y4\"><div class=\"container-ibwgrGVw sell-ibwgrGVw\"><span class=\"ratingIcon-ibwgrGVw\" role=\"img\" aria-hidden=\"true\"><svg xmlns=\"http://www.w3.org/2000/svg\" viewBox=\"0 0 18 18\" width=\"18\" height=\"18\"><path fill=\"currentColor\" d=\"m4.67 7.38.66-.76L9 9.84l3.67-3.22.66.76L9 11.16 4.67 7.38Z\"/></svg></span>Sell</div></td></tr><tr class=\"row-RdUXZpkv listRow\" data-rowkey=\"ASX:XJO\"><td class=\"cell-RLhfr_y4 left-RLhfr_y4 cell-fixed-ZtyEm8a1 onscroll-shadow\"><span class=\"tickerCell-GrtoTeat\"><span></span><img class=\"tv-circle-logo-PsAlMQQF tv-circle-logo--xsmall-PsAlMQQF tickerLogo-GrtoTeat\" crossorigin=\"\" src=\"https://s3-symbol-logo.tradingview.com/indices/asx-200.svg\" alt=\"\"/><a class=\"apply-common-tooltip tickerNameBox-GrtoTeat tickerName-GrtoTeat\" title=\"XJO − S&amp;P/ASX 200 Index\" href=\"/symbols/ASX-XJO/\" target=\"_blank\">XJO</a><sup class=\"apply-common-tooltip tickerDescription-GrtoTeat\" title=\"S&amp;P/ASX 200 Index\">S&amp;P/ASX 200 Index</sup><div class=\"marksContainer-doWAzK97\"><span class=\"dataMode-FRcSVmGO\"></span></div></span></td><td class=\"cell-RLhfr_y4 right-RLhfr_y4\">7,988.6</td><td class=\"cell-RLhfr_y4 right-RLhfr_y4\"><span class=\"positive-p_QIAEOQ\">+0.85%</span></td><td class=\"cell-RLhfr_y4 right-RLhfr_y4\"><span class=\"positive-YXaj5m4M\">67.3</span></td><td class=\"cell-RLhfr_y4 right-RLhfr_y4\">8,000.0</td><td class=\"cell-RLhfr_y4 right-RLhfr_y4\">7,921.3</td><td class=\"cell-RLhfr_y4 left-RLhfr_y4\"><div class=\"container-ibwgrGVw strong_buy-ibwgrGVw\"><span class=\"ratingIcon-ibwgrGVw\" role=\"img\" aria-hidden=\"true\"><svg xmlns=\"http://www.w3.org/2000/svg\" viewBox=\"0 0 18 18\" width=\"18\" height=\"18\"><path fill=\"currentColor\" d=\"M9 3.3 13.7 8l-.7.7-4-4-4 4-.7-.7L9 3.3Zm0 6 4.7 4.7-.7.7-4-4-4 4-.7-.7L9 9.3Z\"/></svg></span>Strong buy</div></td></tr><tr class=\"row-RdUXZpkv listRow\" data-rowkey=\"IDX:COMPOSITE\"><td class=\"cell-RLhfr_y4 left-RLhfr_y4 cell-fixed-ZtyEm8a1 onscroll-shadow\"><span class=\"tickerCell-GrtoTeat\"><span></span><img class=\"tv-circle-logo-PsAlMQQF tv-circle-logo--xsmall-PsAlMQQF tickerLogo-GrtoTeat\" crossorigin=\"\" src=\"https://s3-symbol-logo.tradingview.com/indices/jakarta-composite-index.svg\" alt=\"\"/><a class=\"apply-common-tooltip tickerNameBox-GrtoTeat tickerName-GrtoTeat\" title=\"COMPOSITE − IDX Composite Index\" href=\"/symbols/IDX-COMPOSITE/\" target=\"_blank\">COMPOSITE</a><sup class=\"apply-common-tooltip tickerDescription-GrtoTeat\" title=\"IDX Composite Index\">IDX Composite Index</sup><div class=\"marksContainer-doWAzK97\"><span class=\"dataMode-FRcSVmGO\"></span></div></span></td><td class=\"cell-RLhfr_y4 right-RLhfr_y4\">7,315.2050</td><td class=\"cell-RLhfr_y4 right-RLhfr_y4\"><span class=\"positive-p_QIAEOQ\">+0.37%</span></td><td class=\"cell-RLhfr_y4 right-RLhfr_y4\"><span class=\"positive-YXaj5m4M\">27.0380</span></td><td class=\"cell-RLhfr_y4 right-RLhfr_y4\">7,333.8990</td><td class=\"cell-RLhfr_y4 right-RLhfr_y4\">7,304.4150</td><td class=\"cell-RLhfr_y4 left-RLhfr_y4\"><div class=\"container-ibwgrGVw buy-ibwgrGVw\"><span class=\"ratingIcon-ibwgrGVw\" role=\"img\" aria-hidden=\"true\"><svg xmlns=\"http://www.w3.org/2000/svg\" viewBox=\"0 0 18 18\" width=\"18\" height=\"18\"><path fill=\"currentColor\" d=\"m4.67 10.62.66.76L9 8.16l3.67 3.22.66-.76L9 6.84l-4.33 3.78Z\"/></svg></span>Buy</div></td></tr><tr class=\"row-RdUXZpkv listRow\" data-rowkey=\"TVC:SX5E\"><td class=\"cell-RLhfr_y4 left-RLhfr_y4 cell-fixed-ZtyEm8a1 onscroll-shadow\"><span class=\"tickerCell-GrtoTeat\"><span></span><img class=\"tv-circle-logo-PsAlMQQF tv-circle-logo--xsmall-PsAlMQQF tickerLogo-GrtoTeat\" crossorigin=\"\" src=\"https://s3-symbol-logo.tradingview.com/indices/euro-stoxx-50.svg\" alt=\"\"/><a class=\"apply-common-tooltip tickerNameBox-GrtoTeat tickerName-GrtoTeat\" title=\"SX5E − STOXX 50\" href=\"/symbols/TVC-SX5E/\" target=\"_blank\">SX5E</a><sup class=\"apply-common-tooltip tickerDescription-GrtoTeat\" title=\"STOXX 50\">STOXX 50</sup></span></td><td class=\"cell-RLhfr_y4 right-RLhfr_y4\">4,862.51</td><td class=\"cell-RLhfr_y4 right-RLhfr_y4\"><span class=\"positive-p_QIAEOQ\">+1.06%</span></td><td class=\"cell-RLhfr_y4 right-RLhfr_y4\"><span class=\"positive-YXaj5m4M\">51.22</span></td><td class=\"cell-RLhfr_y4 right-RLhfr_y4\">4,867.88</td><td class=\"cell-RLhfr_y4 right-RLhfr_y4\">4,810.20</td><td class=\"cell-RLhfr_y4 left-RLhfr_y4\"><div class=\"container-ibwgrGVw sell-ibwgrGVw\"><span class=\"ratingIcon-ibwgrGVw\" role=\"img\" aria-hidden=\"true\"><svg xmlns=\"http://www.w3.org/2000/svg\" viewBox=\"0 0 18 18\" width=\"18\" height=\"18\"><path fill=\"currentColor\" d=\"m4.67 7.38.66-.76L9 9.84l3.67-3.22.66.76L9 11.16 4.67 7.38Z\"/></svg></span>Sell</div></td></tr><tr class=\"row-RdUXZpkv listRow\" data-rowkey=\"MOEX:IMOEX\"><td class=\"cell-RLhfr_y4 left-RLhfr_y4 cell-fixed-ZtyEm8a1 onscroll-shadow\"><span class=\"tickerCell-GrtoTeat\"><span></span><img class=\"tv-circle-logo-PsAlMQQF tv-circle-logo--xsmall-PsAlMQQF tickerLogo-GrtoTeat\" crossorigin=\"\" src=\"https://s3-symbol-logo.tradingview.com/moscow-exchange.svg\" alt=\"\"/><a class=\"apply-common-tooltip tickerNameBox-GrtoTeat tickerName-GrtoTeat\" title=\"IMOEX − MOEX Russia Index\" href=\"/symbols/MOEX-IMOEX/\" target=\"_blank\">IMOEX</a><sup class=\"apply-common-tooltip tickerDescription-GrtoTeat\" title=\"MOEX Russia Index\">MOEX Russia Index</sup></span></td><td class=\"cell-RLhfr_y4 right-RLhfr_y4\">2,993.23</td><td class=\"cell-RLhfr_y4 right-RLhfr_y4\"><span class=\"negative-p_QIAEOQ\">−1.58%</span></td><td class=\"cell-RLhfr_y4 right-RLhfr_y4\"><span class=\"negative-YXaj5m4M\">−48.14</span></td><td class=\"cell-RLhfr_y4 right-RLhfr_y4\">3,060.68</td><td class=\"cell-RLhfr_y4 right-RLhfr_y4\">2,972.53</td><td class=\"cell-RLhfr_y4 left-RLhfr_y4\"><div class=\"container-ibwgrGVw strong_sell-ibwgrGVw\"><span class=\"ratingIcon-ibwgrGVw\" role=\"img\" aria-hidden=\"true\"><svg xmlns=\"http://www.w3.org/2000/svg\" viewBox=\"0 0 18 18\" width=\"18\" height=\"18\"><path fill=\"currentColor\" d=\"m5 3.3 4 4 4-4 .7.7L9 8.7 4.3 4l.7-.7Zm0 6 4 4 4-4 .7.7L9 14.7 4.3 10l.7-.7Z\"/></svg></span>Strong sell</div></td></tr><tr class=\"row-RdUXZpkv listRow\" data-rowkey=\"BIST:XU100\"><td class=\"cell-RLhfr_y4 left-RLhfr_y4 cell-fixed-ZtyEm8a1 onscroll-shadow\"><span class=\"tickerCell-GrtoTeat\"><span></span><img class=\"tv-circle-logo-PsAlMQQF tv-circle-logo--xsmall-PsAlMQQF tickerLogo-GrtoTeat\" crossorigin=\"\" src=\"https://s3-symbol-logo.tradingview.com/indices/bist-100.svg\" alt=\"\"/><a class=\"apply-common-tooltip tickerNameBox-GrtoTeat tickerName-GrtoTeat\" title=\"XU100 − BIST 100 Index\" href=\"/symbols/BIST-XU100/\" target=\"_blank\">XU100</a><sup class=\"apply-common-tooltip tickerDescription-GrtoTeat\" title=\"BIST 100 Index\">BIST 100 Index</sup><div class=\"marksContainer-doWAzK97\"><span class=\"dataMode-FRcSVmGO\"></span></div></span></td><td class=\"cell-RLhfr_y4 right-RLhfr_y4\">10,891.42</td><td class=\"cell-RLhfr_y4 right-RLhfr_y4\"><span class=\"positive-p_QIAEOQ\">+0.18%</span></td><td class=\"cell-RLhfr_y4 right-RLhfr_y4\"><span class=\"positive-YXaj5m4M\">19.94</span></td><td class=\"cell-RLhfr_y4 right-RLhfr_y4\">10,948.13</td><td class=\"cell-RLhfr_y4 right-RLhfr_y4\">10,850.50</td><td class=\"cell-RLhfr_y4 left-RLhfr_y4\"><div class=\"container-ibwgrGVw neutral-ibwgrGVw\"><span class=\"ratingIcon-ibwgrGVw\" role=\"img\" aria-hidden=\"true\"><svg xmlns=\"http://www.w3.org/2000/svg\" viewBox=\"0 0 18 18\" width=\"18\" height=\"18\"><path fill=\"currentColor\" d=\"M5 9h9v1H5V9Z\"/></svg></span>Neutral</div></td></tr><tr class=\"row-RdUXZpkv listRow\" data-rowkey=\"TVC:SA40\"><td class=\"cell-RLhfr_y4 left-RLhfr_y4 cell-fixed-ZtyEm8a1 onscroll-shadow\"><span class=\"tickerCell-GrtoTeat\"><span></span><img class=\"tv-circle-logo-PsAlMQQF tv-circle-logo--xsmall-PsAlMQQF tickerLogo-GrtoTeat\" crossorigin=\"\" src=\"https://s3-symbol-logo.tradingview.com/indices/csouth-africa-top-40-index.svg\" alt=\"\"/><a class=\"apply-common-tooltip tickerNameBox-GrtoTeat tickerName-GrtoTeat\" title=\"SA40 − SOUTH AFRICA TOP 40 INDEX\" href=\"/symbols/TVC-SA40/\" target=\"_blank\">SA40</a><sup class=\"apply-common-tooltip tickerDescription-GrtoTeat\" title=\"SOUTH AFRICA TOP 40 INDEX\">SOUTH AFRICA TOP 40 INDEX</sup></span></td><td class=\"cell-RLhfr_y4 right-RLhfr_y4\">74,042.42</td><td class=\"cell-RLhfr_y4 right-RLhfr_y4\"><span class=\"positive-p_QIAEOQ\">+0.48%</span></td><td class=\"cell-RLhfr_y4 right-RLhfr_y4\"><span class=\"positive-YXaj5m4M\">355.18</span></td><td class=\"cell-RLhfr_y4 right-RLhfr_y4\">74,187.73</td><td class=\"cell-RLhfr_y4 right-RLhfr_y4\">73,588.30</td><td class=\"cell-RLhfr_y4 left-RLhfr_y4\"><div class=\"container-ibwgrGVw buy-ibwgrGVw\"><span class=\"ratingIcon-ibwgrGVw\" role=\"img\" aria-hidden=\"true\"><svg xmlns=\"http://www.w3.org/2000/svg\" viewBox=\"0 0 18 18\" width=\"18\" height=\"18\"><path fill=\"currentColor\" d=\"m4.67 10.62.66.76L9 8.16l3.67 3.22.66-.76L9 6.84l-4.33 3.78Z\"/></svg></span>Buy</div></td></tr><tr class=\"row-RdUXZpkv listRow\" data-rowkey=\"NSE:NIFTY\"><td class=\"cell-RLhfr_y4 left-RLhfr_y4 cell-fixed-ZtyEm8a1 onscroll-shadow\"><span class=\"tickerCell-GrtoTeat\"><span></span><img class=\"tv-circle-logo-PsAlMQQF tv-circle-logo--xsmall-PsAlMQQF tickerLogo-GrtoTeat\" crossorigin=\"\" src=\"https://s3-symbol-logo.tradingview.com/indices/nifty-50.svg\" alt=\"\"/><a class=\"apply-common-tooltip tickerNameBox-GrtoTeat tickerName-GrtoTeat\" title=\"NIFTY − Nifty 50 Index\" href=\"/symbols/NSE-NIFTY/\" target=\"_blank\">NIFTY</a><sup class=\"apply-common-tooltip tickerDescription-GrtoTeat\" title=\"Nifty 50 Index\">Nifty 50 Index</sup></span></td><td class=\"cell-RLhfr_y4 right-RLhfr_y4\">24,834.85</td><td class=\"cell-RLhfr_y4 right-RLhfr_y4\"><span class=\"positive-p_QIAEOQ\">+1.76%</span></td><td class=\"cell-RLhfr_y4 right-RLhfr_y4\"><span class=\"positive-YXaj5m4M\">428.75</span></td><td class=\"cell-RLhfr_y4 right-RLhfr_y4\">24,861.15</td><td class=\"cell-RLhfr_y4 right-RLhfr_y4\">24,410.90</td><td class=\"cell-RLhfr_y4 left-RLhfr_y4\"><div class=\"container-ibwgrGVw strong_buy-ibwgrGVw\"><span class=\"ratingIcon-ibwgrGVw\" role=\"img\" aria-hidden=\"true\"><svg xmlns=\"http://www.w3.org/2000/svg\" viewBox=\"0 0 18 18\" width=\"18\" height=\"18\"><path fill=\"currentColor\" d=\"M9 3.3 13.7 8l-.7.7-4-4-4 4-.7-.7L9 3.3Zm0 6 4.7 4.7-.7.7-4-4-4 4-.7-.7L9 9.3Z\"/></svg></span>Strong buy</div></td></tr><tr class=\"row-RdUXZpkv listRow\" data-rowkey=\"BSE:SENSEX\"><td class=\"cell-RLhfr_y4 left-RLhfr_y4 cell-fixed-ZtyEm8a1 onscroll-shadow\"><span class=\"tickerCell-GrtoTeat\"><span></span><img class=\"tv-circle-logo-PsAlMQQF tv-circle-logo--xsmall-PsAlMQQF tickerLogo-GrtoTeat\" crossorigin=\"\" src=\"https://s3-symbol-logo.tradingview.com/indices/bse-sensex.svg\" alt=\"\"/><a class=\"apply-common-tooltip tickerNameBox-GrtoTeat tickerName-GrtoTeat\" title=\"SENSEX − S&amp;P BSE SENSEX Index\" href=\"/symbols/BSE-SENSEX/\" target=\"_blank\">SENSEX</a><sup class=\"apply-common-tooltip tickerDescription-GrtoTeat\" title=\"S&amp;P BSE SENSEX Index\">S&amp;P BSE SENSEX Index</sup><div class=\"marksContainer-doWAzK97\"><span class=\"dataMode-FRcSVmGO\"></span></div></span></td><td class=\"cell-RLhfr_y4 right-RLhfr_y4\">81,332.72</td><td class=\"cell-RLhfr_y4 right-RLhfr_y4\"><span class=\"positive-p_QIAEOQ\">+1.62%</span></td><td class=\"cell-RLhfr_y4 right-RLhfr_y4\"><span class=\"positive-YXaj5m4M\">1,292.92</span></td><td class=\"cell-RLhfr_y4 right-RLhfr_y4\">81,427.18</td><td class=\"cell-RLhfr_y4 right-RLhfr_y4\">80,013.60</td><td class=\"cell-RLhfr_y4 left-RLhfr_y4\"><div class=\"container-ibwgrGVw strong_buy-ibwgrGVw\"><span class=\"ratingIcon-ibwgrGVw\" role=\"img\" aria-hidden=\"true\"><svg xmlns=\"http://www.w3.org/2000/svg\" viewBox=\"0 0 18 18\" width=\"18\" height=\"18\"><path fill=\"currentColor\" d=\"M9 3.3 13.7 8l-.7.7-4-4-4 4-.7-.7L9 3.3Zm0 6 4.7 4.7-.7.7-4-4-4 4-.7-.7L9 9.3Z\"/></svg></span>Strong buy</div></td></tr><tr class=\"row-RdUXZpkv listRow\" data-rowkey=\"TADAWUL:TASI\"><td class=\"cell-RLhfr_y4 left-RLhfr_y4 cell-fixed-ZtyEm8a1 onscroll-shadow\"><span class=\"tickerCell-GrtoTeat\"><span></span><img class=\"tv-circle-logo-PsAlMQQF tv-circle-logo--xsmall-PsAlMQQF tickerLogo-GrtoTeat\" crossorigin=\"\" src=\"https://s3-symbol-logo.tradingview.com/indices/tadawul-all-shares-index.svg\" alt=\"\"/><a class=\"apply-common-tooltip tickerNameBox-GrtoTeat tickerName-GrtoTeat\" title=\"TASI − Tadawul All Shares Index\" href=\"/symbols/TADAWUL-TASI/\" target=\"_blank\">TASI</a><sup class=\"apply-common-tooltip tickerDescription-GrtoTeat\" title=\"Tadawul All Shares Index\">Tadawul All Shares Index</sup><div class=\"marksContainer-doWAzK97\"><span class=\"dataMode-FRcSVmGO\"></span></div></span></td><td class=\"cell-RLhfr_y4 right-RLhfr_y4\">12,175.430</td><td class=\"cell-RLhfr_y4 right-RLhfr_y4\"><span class=\"positive-p_QIAEOQ\">+1.24%</span></td><td class=\"cell-RLhfr_y4 right-RLhfr_y4\"><span class=\"positive-YXaj5m4M\">149.220</span></td><td class=\"cell-RLhfr_y4 right-RLhfr_y4\">12,178.520</td><td class=\"cell-RLhfr_y4 right-RLhfr_y4\">12,047.240</td><td class=\"cell-RLhfr_y4 left-RLhfr_y4\"><div class=\"container-ibwgrGVw buy-ibwgrGVw\"><span class=\"ratingIcon-ibwgrGVw\" role=\"img\" aria-hidden=\"true\"><svg xmlns=\"http://www.w3.org/2000/svg\" viewBox=\"0 0 18 18\" width=\"18\" height=\"18\"><path fill=\"currentColor\" d=\"m4.67 10.62.66.76L9 8.16l3.67 3.22.66-.76L9 6.84l-4.33 3.78Z\"/></svg></span>Buy</div></td></tr><tr class=\"row-RdUXZpkv listRow\" data-rowkey=\"BMFBOVESPA:IBOV\"><td class=\"cell-RLhfr_y4 left-RLhfr_y4 cell-fixed-ZtyEm8a1 onscroll-shadow\"><span class=\"tickerCell-GrtoTeat\"><span></span><img class=\"tv-circle-logo-PsAlMQQF tv-circle-logo--xsmall-PsAlMQQF tickerLogo-GrtoTeat\" crossorigin=\"\" src=\"https://s3-symbol-logo.tradingview.com/b3-on-nm.svg\" alt=\"\"/><a class=\"apply-common-tooltip tickerNameBox-GrtoTeat tickerName-GrtoTeat\" title=\"IBOV − Bovespa Index\" href=\"/symbols/BMFBOVESPA-IBOV/\" target=\"_blank\">IBOV</a><sup class=\"apply-common-tooltip tickerDescription-GrtoTeat\" title=\"Bovespa Index\">Bovespa Index</sup><div class=\"marksContainer-doWAzK97\"><span class=\"dataMode-FRcSVmGO\"></span></div></span></td><td class=\"cell-RLhfr_y4 right-RLhfr_y4\">127,492.49</td><td class=\"cell-RLhfr_y4 right-RLhfr_y4\"><span class=\"positive-p_QIAEOQ\">+1.22%</span></td><td class=\"cell-RLhfr_y4 right-RLhfr_y4\"><span class=\"positive-YXaj5m4M\">1,538.40</span></td><td class=\"cell-RLhfr_y4 right-RLhfr_y4\">127,699.91</td><td class=\"cell-RLhfr_y4 right-RLhfr_y4\">125,953.28</td><td class=\"cell-RLhfr_y4 left-RLhfr_y4\"><div class=\"container-ibwgrGVw buy-ibwgrGVw\"><span class=\"ratingIcon-ibwgrGVw\" role=\"img\" aria-hidden=\"true\"><svg xmlns=\"http://www.w3.org/2000/svg\" viewBox=\"0 0 18 18\" width=\"18\" height=\"18\"><path fill=\"currentColor\" d=\"m4.67 10.62.66.76L9 8.16l3.67 3.22.66-.76L9 6.84l-4.33 3.78Z\"/></svg></span>Buy</div></td></tr><tr class=\"row-RdUXZpkv listRow\" data-rowkey=\"BMV:ME\"><td class=\"cell-RLhfr_y4 left-RLhfr_y4 cell-fixed-ZtyEm8a1 onscroll-shadow\"><span class=\"tickerCell-GrtoTeat\"><span></span><img class=\"tv-circle-logo-PsAlMQQF tv-circle-logo--xsmall-PsAlMQQF tickerLogo-GrtoTeat\" crossorigin=\"\" src=\"https://s3-symbol-logo.tradingview.com/indices/ipc-mexico-index.svg\" alt=\"\"/><a class=\"apply-common-tooltip tickerNameBox-GrtoTeat tickerName-GrtoTeat\" title=\"ME − S&amp;P/BMV IPC Index\" href=\"/symbols/BMV-ME/\" target=\"_blank\">ME</a><sup class=\"apply-common-tooltip tickerDescription-GrtoTeat\" title=\"S&amp;P/BMV IPC Index\">S&amp;P/BMV IPC Index</sup><div class=\"marksContainer-doWAzK97\"><span class=\"dataMode-FRcSVmGO\"></span></div></span></td><td class=\"cell-RLhfr_y4 right-RLhfr_y4\">52,819.58</td><td class=\"cell-RLhfr_y4 right-RLhfr_y4\"><span class=\"negative-p_QIAEOQ\">−0.21%</span></td><td class=\"cell-RLhfr_y4 right-RLhfr_y4\"><span class=\"negative-YXaj5m4M\">−112.29</span></td><td class=\"cell-RLhfr_y4 right-RLhfr_y4\">53,157.34</td><td class=\"cell-RLhfr_y4 right-RLhfr_y4\">52,559.26</td><td class=\"cell-RLhfr_y4 left-RLhfr_y4\"><div class=\"container-ibwgrGVw strong_sell-ibwgrGVw\"><span class=\"ratingIcon-ibwgrGVw\" role=\"img\" aria-hidden=\"true\"><svg xmlns=\"http://www.w3.org/2000/svg\" viewBox=\"0 0 18 18\" width=\"18\" height=\"18\"><path fill=\"currentColor\" d=\"m5 3.3 4 4 4-4 .7.7L9 8.7 4.3 4l.7-.7Zm0 6 4 4 4-4 .7.7L9 14.7 4.3 10l.7-.7Z\"/></svg></span>Strong sell</div></td></tr><tr class=\"row-RdUXZpkv listRow\" data-rowkey=\"BCBA:IMV\"><td class=\"cell-RLhfr_y4 left-RLhfr_y4 cell-fixed-ZtyEm8a1 onscroll-shadow\"><span class=\"tickerCell-GrtoTeat\"><span></span><img class=\"tv-circle-logo-PsAlMQQF tv-circle-logo--xsmall-PsAlMQQF tickerLogo-GrtoTeat\" crossorigin=\"\" src=\"https://s3-symbol-logo.tradingview.com/indices/merval-index.svg\" alt=\"\"/><a class=\"apply-common-tooltip tickerNameBox-GrtoTeat tickerName-GrtoTeat\" title=\"IMV − S&amp;P MERVAL Index\" href=\"/symbols/BCBA-IMV/\" target=\"_blank\">IMV</a><sup class=\"apply-common-tooltip tickerDescription-GrtoTeat\" title=\"S&amp;P MERVAL Index\">S&amp;P MERVAL Index</sup><div class=\"marksContainer-doWAzK97\"><span class=\"dataMode-FRcSVmGO\"></span></div></span></td><td class=\"cell-RLhfr_y4 right-RLhfr_y4\">1,542,021.800</td><td class=\"cell-RLhfr_y4 right-RLhfr_y4\"><span class=\"positive-p_QIAEOQ\">+0.24%</span></td><td class=\"cell-RLhfr_y4 right-RLhfr_y4\"><span class=\"positive-YXaj5m4M\">3,741.800</span></td><td class=\"cell-RLhfr_y4 right-RLhfr_y4\">1,575,471.600</td><td class=\"cell-RLhfr_y4 right-RLhfr_y4\">1,534,644.300</td><td class=\"cell-RLhfr_y4 left-RLhfr_y4\"><div class=\"container-ibwgrGVw sell-ibwgrGVw\"><span class=\"ratingIcon-ibwgrGVw\" role=\"img\" aria-hidden=\"true\"><svg xmlns=\"http://www.w3.org/2000/svg\" viewBox=\"0 0 18 18\" width=\"18\" height=\"18\"><path fill=\"currentColor\" d=\"m4.67 7.38.66-.76L9 9.84l3.67-3.22.66.76L9 11.16 4.67 7.38Z\"/></svg></span>Sell</div></td></tr><tr class=\"row-RdUXZpkv listRow\" data-rowkey=\"IDX:IDX30\"><td class=\"cell-RLhfr_y4 left-RLhfr_y4 cell-fixed-ZtyEm8a1 onscroll-shadow lastRowCell-TTjinvhT\"><span class=\"tickerCell-GrtoTeat\"><span></span><img class=\"tv-circle-logo-PsAlMQQF tv-circle-logo--xsmall-PsAlMQQF tickerLogo-GrtoTeat\" crossorigin=\"\" src=\"https://s3-symbol-logo.tradingview.com/indices/idx-30-index.svg\" alt=\"\"/><a class=\"apply-common-tooltip tickerNameBox-GrtoTeat tickerName-GrtoTeat\" title=\"IDX30 − IDX 30 Index\" href=\"/symbols/IDX-IDX30/\" target=\"_blank\">IDX30</a><sup class=\"apply-common-tooltip tickerDescription-GrtoTeat\" title=\"IDX 30 Index\">IDX 30 Index</sup><div class=\"marksContainer-doWAzK97\"><span class=\"dataMode-FRcSVmGO\"></span></div></span></td><td class=\"cell-RLhfr_y4 right-RLhfr_y4 lastRowCell-TTjinvhT\">460.7950</td><td class=\"cell-RLhfr_y4 right-RLhfr_y4 lastRowCell-TTjinvhT\"><span class=\"positive-p_QIAEOQ\">+0.28%</span></td><td class=\"cell-RLhfr_y4 right-RLhfr_y4 lastRowCell-TTjinvhT\"><span class=\"positive-YXaj5m4M\">1.2920</span></td><td class=\"cell-RLhfr_y4 right-RLhfr_y4 lastRowCell-TTjinvhT\">461.7500</td><td class=\"cell-RLhfr_y4 right-RLhfr_y4 lastRowCell-TTjinvhT\">460.2370</td><td class=\"cell-RLhfr_y4 left-RLhfr_y4 lastRowCell-TTjinvhT\"><div class=\"container-ibwgrGVw buy-ibwgrGVw\"><span class=\"ratingIcon-ibwgrGVw\" role=\"img\" aria-hidden=\"true\"><svg xmlns=\"http://www.w3.org/2000/svg\" viewBox=\"0 0 18 18\" width=\"18\" height=\"18\"><path fill=\"currentColor\" d=\"m4.67 10.62.66.76L9 8.16l3.67 3.22.66-.76L9 6.84l-4.33 3.78Z\"/></svg></span>Buy</div></td></tr></tbody></table></div></div></div></div></div></div></div><script type=\"application/prs.init-data+json\">{\"GNUeVN\":{\"context\":{\"request_context\":{\"user\":{\"is_authenticated\":false,\"is_moderator\":false,\"is_staff\":false,\"is_pro\":false,\"features\":{\"NO_SPONSORED_ADS\":false},\"permissions\":{},\"available_offers\":{},\"settings\":{}},\"locale\":\"en\",\"language_iso\":\"en\"}},\"data\":{\"screener\":{\"data\":{\"data\":[{\"s\":\"SP:SPX\",\"d\":[\"SPX\",\"S&P 500\",\"indices/s-and-p-500\",\"streaming\",\"index\",[\"main\",\"cfd\"],5459.09,\"USD\",100,1,\"false\",0,1.1086766075903525,59.86000000000058,5488.32,5430.7,0.045454545454545456]},{\"s\":\"TVC:IXIC\",\"d\":[\"IXIC\",\"US Composite Index\",\"indices/nasdaq-composite\",\"streaming\",\"index\",[\"cfd\"],17357.8816,\"USD\",100,1,\"false\",0,1.025258553063171,176.15710000000036,17454.5665,17239.993,-0.016233766233766225]},{\"s\":\"DJ:DJI\",\"d\":[\"DJI\",\"Dow Jones Industrial Average Index\",\"indices/dow-30\",\"streaming\",\"index\",[\"main\",\"cfd\"],40589.35,\"USD\",100,1,\"false\",0,1.6383340161081352,654.2699999999968,40753.83,40140.86,0.5121212121212121]},{\"s\":\"CBOE:VIX\",\"d\":[\"VIX\",\"CBOE Volatility Index\",\"indices/volatility-s-and-p-500\",\"delayed_streaming_900\",\"index\",[\"main\"],16.39,null,100,1,\"false\",0,-11.213434452871073,-2.0700000000000003,18.05,16.37,0.3474025974025974]},{\"s\":\"TSX:TSX\",\"d\":[\"TSX\",\"S&P/TSX Composite index\",\"indices/s-and-p-tsx-composite-index\",\"delayed_streaming_900\",\"index\",[\"main\"],22814.81,\"CAD\",100,1,\"false\",0,0.9146307749945595,206.78000000000247,22843.22,22683.88,0.5575757575757576]},{\"s\":\"TVC:UKX\",\"d\":[\"UKX\",\"UK 100 INDEX\",\"indices/uk-100\",\"streaming\",\"index\",[\"cfd\"],8285.7,\"GBP\",100,1,\"false\",0,1.213481938248514,99.34000000000106,8290.33,8181.23,0.6006493506493507]},{\"s\":\"XETR:DAX\",\"d\":[\"DAX\",\"DAX Index\",\"indices/dax\",\"delayed_streaming_900\",\"index\",[\"main\",\"synthetic\"],18417.55,\"EUR\",100,1,\"false\",0,0.6493896840871826,118.82999999999811,18428.88,18218.54,0.4]},{\"s\":\"EURONEXT:PX1\",\"d\":[\"PX1\",\"CAC 40 Index\",\"indices/cac-40\",\"delayed_streaming_900\",\"index\",[\"main\"],7517.6802,\"EUR\",100,1,\"false\",0,1.2206807037008025,90.66019999999935,7526.27,7427.4702,-0.4383116883116883]},{\"s\":\"TVC:FTMIB\",\"d\":[\"FTMIB\",\"MILANO ITALIA BORSA INDEX\",\"indices/ftse-mib\",\"streaming\",\"index\",[\"cfd\"],33812.45,\"EUR\",100,1,\"false\",0,0.12256055924806453,41.38999999999942,33888.82,33675.86,-0.34090909090909094]},{\"s\":\"TVC:NI225\",\"d\":[\"NI225\",\"Nikkei 225 Index\",\"indices/nikkei-225\",\"streaming\",\"index\",[\"cfd\"],38415.7,\"JPY\",100,1,\"false\",0,1.9867609446273633,748.3600000000006,38719.7,38010.01,-0.11363636363636365]},{\"s\":\"TVC:KOSPI\",\"d\":[\"KOSPI\",\"KOREA COMPOSITE STOCK PRICE INDEX (KOSPI)\",\"indices/korea-composite-index\",\"streaming\",\"index\",[\"cfd\"],2763.43,\"KRW\",100,1,\"false\",0,1.1537715371297,31.519999999999982,2776.86,2742.69,-0.10714285714285714]},{\"s\":\"SSE:000001\",\"d\":[\"000001\",\"SSE Composite Index\",\"indices/sse-composite\",\"delayed_streaming_900\",\"index\",[\"main\"],2887.9011,\"CNY\",10000,1,\"false\",0,-0.10363910553442862,-2.996099999999842,2898.0975,2878.5825,-0.4]},{\"s\":\"SZSE:399001\",\"d\":[\"399001\",\"Shenzhen Component Index\",\"indices/szse-component-index\",\"streaming\",\"index\",[\"main\"],8529.1824,\"CNY\",10000,1,\"false\",0,-0.7908575722873114,-67.9914000000008,8589.2751,8522.5613,-0.49090909090909096]},{\"s\":\"ASX:XJO\",\"d\":[\"XJO\",\"S&P/ASX 200 Index\",\"indices/asx-200\",\"delayed_streaming_1200\",\"index\",[\"main\"],7988.6,\"AUD\",10,1,\"false\",0,0.8496080188857912,67.30000000000018,8000,7921.3,0.5097402597402597]},{\"s\":\"IDX:COMPOSITE\",\"d\":[\"COMPOSITE\",\"IDX Composite Index\",\"indices/jakarta-composite-index\",\"delayed_streaming_600\",\"index\",[\"\"],7315.205,\"IDR\",10000,1,\"false\",0,0.3709849129417528,27.037999999999556,7333.899,7304.415,0.4642857142857143]},{\"s\":\"TVC:SX5E\",\"d\":[\"SX5E\",\"STOXX 50\",\"indices/euro-stoxx-50\",\"streaming\",\"index\",[\"cfd\"],4862.51,\"EUR\",100,1,\"false\",0,1.0645793539778368,51.220000000000255,4867.88,4810.2,-0.29545454545454547]},{\"s\":\"MOEX:IMOEX\",\"d\":[\"IMOEX\",\"MOEX Russia Index\",\"moscow-exchange\",\"streaming\",\"index\",[\"main\"],2993.23,\"RUB\",100,1,\"false\",0,-1.5828393125466442,-48.13999999999987,3060.68,2972.53,-0.5097402597402597]},{\"s\":\"BIST:XU100\",\"d\":[\"XU100\",\"BIST 100 Index\",\"indices/bist-100\",\"delayed_streaming_900\",\"index\",[\"main\",\"synthetic\"],10891.42,\"TRY\",100,1,\"false\",0,0.18341568949214376,19.94000000000051,10948.13,10850.5,0.02121212121212121]},{\"s\":\"TVC:SA40\",\"d\":[\"SA40\",\"SOUTH AFRICA TOP 40 INDEX\",\"indices/csouth-africa-top-40-index\",\"streaming\",\"index\",[\"main\",\"cfd\"],74042.42,\"ZAR\",100,1,\"false\",0,0.48201018249563016,355.179999999993,74187.73,73588.3,0.4642857142857143]},{\"s\":\"NSE:NIFTY\",\"d\":[\"NIFTY\",\"Nifty 50 Index\",\"indices/nifty-50\",\"streaming\",\"index\",[\"main\",\"synthetic\"],24834.85,\"INR\",100,5,\"false\",0,1.7567329479105633,428.75,24861.15,24410.9,0.5121212121212121]},{\"s\":\"BSE:SENSEX\",\"d\":[\"SENSEX\",\"S&P BSE SENSEX Index\",\"indices/bse-sensex\",\"delayed_streaming_900\",\"index\",[\"main\"],81332.719,\"INR\",100,1,\"false\",0,1.6153489244856423,1292.9219999999914,81427.18,80013.602,0.5097402597402597]},{\"s\":\"TADAWUL:TASI\",\"d\":[\"TASI\",\"Tadawul All Shares Index\",\"indices/tadawul-all-shares-index\",\"delayed_streaming_900\",\"index\",[\"synthetic\"],12175.43,\"SAR\",1000,1,\"false\",0,1.2407899080425269,149.22000000000116,12178.52,12047.24,0.49090909090909096]},{\"s\":\"BMFBOVESPA:IBOV\",\"d\":[\"IBOV\",\"Bovespa Index\",\"b3-on-nm\",\"delayed_streaming_900\",\"index\",[\"main\"],127492.49,\"BRL\",100,1,\"false\",0,1.2213974155186298,1538.4000000000087,127699.91,125953.28,0.48376623376623373]},{\"s\":\"BMV:ME\",\"d\":[\"ME\",\"S&P/BMV IPC Index\",\"indices/ipc-mexico-index\",\"delayed_streaming_1200\",\"index\",[\"main\"],52819.578,\"MXN\",100,1,\"false\",0,-0.21214628895320523,-112.29299999999785,53157.34,52559.262,-0.5575757575757576]},{\"s\":\"BCBA:IMV\",\"d\":[\"IMV\",\"S&P MERVAL Index\",\"indices/merval-index\",\"delayed_streaming_1200\",\"index\",[\"main\"],1542021.8,\"ARS\",1000,1,\"false\",0,0.24324570299295623,3741.8000000000466,1575471.6,1534644.3,-0.1525974025974026]},{\"s\":\"IDX:IDX30\",\"d\":[\"IDX30\",\"IDX 30 Index\",\"indices/idx-30-index\",\"delayed_streaming_600\",\"index\",[\"\"],460.795,\"IDR\",10000,1,\"false\",0,0.28117553707322007,1.2920100000000048,461.75,460.237,0.2694805194805195]}],\"totalCount\":26,\"params\":{\"cfd\":{\"symbols\":{\"query\":{}},\"filter\":[{\"left\":\"sector\",\"operation\":\"equal\",\"right\":\"index\"},{\"left\":\"index_priority\",\"operation\":\"nempty\",\"right\":null},{\"left\":\"country_code\",\"operation\":\"in_range\",\"right\":[\"AR\",\"AU\",\"BR\",\"CA\",\"CN\",\"FR\",\"DE\",\"IN\",\"ID\",\"IT\",\"JP\",\"KR\",\"MX\",\"RU\",\"SA\",\"ZA\",\"TR\",\"GB\",\"US\",\"EU\"]}],\"sort\":{\"sortBy\":\"index_priority\",\"sortOrder\":\"asc\",\"nullsFirst\":false},\"options\":{\"lang\":\"en\"}}}},\"params\":{\"scan_data\":{\"options\":{\"lang\":\"en\"},\"range\":[0,100],\"columns\":[\"name\",\"description\",\"logoid\",\"update_mode\",\"type\",\"typespecs\",\"close\",\"currency\",\"pricescale\",\"minmov\",\"fractional\",\"minmove2\",\"change\",\"change_abs\",\"high\",\"low\",\"Recommend.All\"],\"preset\":\"indices_major\"},\"market\":\"cfd\"}}},\"meta\":{\"screener_table\":{\"screener_tabs\":[{\"path\":\"all\",\"url\":\"/markets/indices/quotes-all/\",\"title_for_label\":\"All indices\",\"role\":\"tab\"},{\"path\":\"major\",\"url\":\"/markets/indices/quotes-major/\",\"title_for_label\":\"Major world indices\",\"role\":\"tab\"},{\"path\":\"us\",\"url\":\"/markets/indices/quotes-us/\",\"title_for_label\":\"US indices\",\"role\":\"tab\"},{\"path\":\"snp\",\"url\":\"/markets/indices/quotes-snp/\",\"title_for_label\":\"S&P sectors\",\"role\":\"tab\"},{\"path\":\"currency\",\"url\":\"/markets/indices/quotes-currency/\",\"title_for_label\":\"Currency indices\",\"role\":\"tab\"}],\"current_screener_tab\":{\"path\":\"major\",\"url\":\"/markets/indices/quotes-major/\",\"title_for_label\":\"Major world indices\",\"role\":\"tab\",\"title_for_panel\":\"Indices of the largest economies\",\"header_level\":\"h1\",\"description_for_panel\":\"Major stock indices, like S&P 500, Dow Jones, and Nasdaq, are key indicators managed by global exchanges. They’re calculated using prices or market capitalization and monitored by investors for insights into the overall economy.\"},\"screener_table_settings\":{\"column_set_preset_id\":\"index\",\"active_column_set_id\":\"overview\",\"hide_load_more\":true,\"has_manual_sorting\":true,\"has_sticky_symbol_header\":false,\"filter\":[],\"index_filters\":[],\"markets\":[]}}},\"ssrTimeSeconds\":1722220446.162546}}</script>',\n",
       "  'content': '',\n",
       "  'tabs': '<div class=\"tv-tabs tv-tabs--category-header tv-tabs--no-border js-category-tabs\">\\n <a href=\"/markets/indices/\" \\t\\t\\t\\tclass=\"tv-tabs__tab js-category-tab\">\\n\\t\\t\\t\\t </a>  <a href=\"/markets/indices/news/\" \\t\\t\\t\\tclass=\"tv-tabs__tab js-category-tab\">\\n\\t\\t\\t\\tNews </a>  <a href=\"/markets/indices/ideas/\" \\t\\t\\t\\tclass=\"tv-tabs__tab js-category-tab\">\\n\\t\\t\\t\\tIdeas </a>  <div \\t\\t\\t\\tclass=\"tv-tabs__tab js-category-tab i-active\">\\n\\t\\t\\t\\tQuotes </div> \\t</div>',\n",
       "  'bundles': {'additional': ['base_screener_page_component']}}}"
      ]
     },
     "execution_count": 74,
     "metadata": {},
     "output_type": "execute_result"
    }
   ],
   "source": [
    "data"
   ]
  },
  {
   "cell_type": "code",
   "execution_count": 91,
   "metadata": {},
   "outputs": [
    {
     "name": "stdout",
     "output_type": "stream",
     "text": [
      "Empty DataFrame\n",
      "Columns: []\n",
      "Index: []\n"
     ]
    }
   ],
   "source": [
    "# Procesar los datos de la respuesta\n",
    "df = pd.DataFrame()\n",
    "if \"data\" in data:\n",
    "    rows = []\n",
    "    for item in data[\"data\"]:\n",
    "        symbol = item[\"s\"]\n",
    "        details = item[\"d\"]\n",
    "        rows.append([symbol] + details)\n",
    "    \n",
    "    columns = [\"Symbol\", \"Ticker\", \"Name\", \"URL\", \"Type\", \"Category\", \"Change %\", \"Change Abs\", \"High\", \"Low\", \"Volume\", \"Tech Rating\"]\n",
    "    df = pd.DataFrame(rows, columns=columns)\n",
    "\n",
    "print(df)"
   ]
  },
  {
   "cell_type": "markdown",
   "metadata": {},
   "source": [
    "#### Using Trading View API"
   ]
  },
  {
   "cell_type": "code",
   "execution_count": 92,
   "metadata": {},
   "outputs": [],
   "source": [
    "def get_tradingview_market_data(market=\"america\", columns=None):\n",
    "    url = f\"https://scanner.tradingview.com/{market}/scan\"\n",
    "    payload = {\n",
    "        \"filter\": [],\n",
    "        \"options\": {\"lang\": \"es\"},\n",
    "        \"markets\": [\"america\"],\n",
    "        \"symbols\": {\"query\": {\"types\": []}, \"tickers\": []},\n",
    "        \"columns\": columns if columns else [\"Recommend.Other\", \"volume\", \"change\", \"close\", \"description\"],\n",
    "        \"sort\": {\"sortBy\": \"volume\", \"sortOrder\": \"desc\"},\n",
    "        \"range\": [0, 150]\n",
    "    }\n",
    "    \n",
    "    headers = {\n",
    "        \"User-Agent\": \"Mozilla/5.0 (Windows NT 10.0; Win64; x64) AppleWebKit/537.36 (KHTML, like Gecko) Chrome/91.0.4472.124 Safari/537.36\"\n",
    "    }\n",
    "\n",
    "    response = requests.post(url, json=payload, headers=headers)\n",
    "    data = response.json()\n",
    "    \n",
    "    # Convertir los datos a un DataFrame\n",
    "    df = pd.DataFrame(data['data'])\n",
    "    df.columns = columns if columns else [\"Recommend.Other\", \"volume\", \"change\", \"close\", \"description\"]\n",
    "    \n",
    "    return df"
   ]
  },
  {
   "cell_type": "code",
   "execution_count": 94,
   "metadata": {},
   "outputs": [
    {
     "ename": "ValueError",
     "evalue": "Length mismatch: Expected axis has 2 elements, new values have 5 elements",
     "output_type": "error",
     "traceback": [
      "\u001b[1;31m---------------------------------------------------------------------------\u001b[0m",
      "\u001b[1;31mValueError\u001b[0m                                Traceback (most recent call last)",
      "Cell \u001b[1;32mIn[94], line 1\u001b[0m\n\u001b[1;32m----> 1\u001b[0m df \u001b[38;5;241m=\u001b[39m \u001b[43mget_tradingview_market_data\u001b[49m\u001b[43m(\u001b[49m\u001b[43m)\u001b[49m\n\u001b[0;32m      2\u001b[0m \u001b[38;5;28mprint\u001b[39m(df\u001b[38;5;241m.\u001b[39mhead())\n",
      "Cell \u001b[1;32mIn[92], line 22\u001b[0m, in \u001b[0;36mget_tradingview_market_data\u001b[1;34m(market, columns)\u001b[0m\n\u001b[0;32m     20\u001b[0m \u001b[38;5;66;03m# Convertir los datos a un DataFrame\u001b[39;00m\n\u001b[0;32m     21\u001b[0m df \u001b[38;5;241m=\u001b[39m pd\u001b[38;5;241m.\u001b[39mDataFrame(data[\u001b[38;5;124m'\u001b[39m\u001b[38;5;124mdata\u001b[39m\u001b[38;5;124m'\u001b[39m])\n\u001b[1;32m---> 22\u001b[0m \u001b[43mdf\u001b[49m\u001b[38;5;241;43m.\u001b[39;49m\u001b[43mcolumns\u001b[49m \u001b[38;5;241m=\u001b[39m columns \u001b[38;5;28;01mif\u001b[39;00m columns \u001b[38;5;28;01melse\u001b[39;00m [\u001b[38;5;124m\"\u001b[39m\u001b[38;5;124mRecommend.Other\u001b[39m\u001b[38;5;124m\"\u001b[39m, \u001b[38;5;124m\"\u001b[39m\u001b[38;5;124mvolume\u001b[39m\u001b[38;5;124m\"\u001b[39m, \u001b[38;5;124m\"\u001b[39m\u001b[38;5;124mchange\u001b[39m\u001b[38;5;124m\"\u001b[39m, \u001b[38;5;124m\"\u001b[39m\u001b[38;5;124mclose\u001b[39m\u001b[38;5;124m\"\u001b[39m, \u001b[38;5;124m\"\u001b[39m\u001b[38;5;124mdescription\u001b[39m\u001b[38;5;124m\"\u001b[39m]\n\u001b[0;32m     24\u001b[0m \u001b[38;5;28;01mreturn\u001b[39;00m df\n",
      "File \u001b[1;32mc:\\Users\\Pc\\AppData\\Local\\Programs\\Python\\Python312\\Lib\\site-packages\\pandas\\core\\generic.py:6313\u001b[0m, in \u001b[0;36mNDFrame.__setattr__\u001b[1;34m(self, name, value)\u001b[0m\n\u001b[0;32m   6311\u001b[0m \u001b[38;5;28;01mtry\u001b[39;00m:\n\u001b[0;32m   6312\u001b[0m     \u001b[38;5;28mobject\u001b[39m\u001b[38;5;241m.\u001b[39m\u001b[38;5;21m__getattribute__\u001b[39m(\u001b[38;5;28mself\u001b[39m, name)\n\u001b[1;32m-> 6313\u001b[0m     \u001b[38;5;28;01mreturn\u001b[39;00m \u001b[38;5;28;43mobject\u001b[39;49m\u001b[38;5;241;43m.\u001b[39;49m\u001b[38;5;21;43m__setattr__\u001b[39;49m\u001b[43m(\u001b[49m\u001b[38;5;28;43mself\u001b[39;49m\u001b[43m,\u001b[49m\u001b[43m \u001b[49m\u001b[43mname\u001b[49m\u001b[43m,\u001b[49m\u001b[43m \u001b[49m\u001b[43mvalue\u001b[49m\u001b[43m)\u001b[49m\n\u001b[0;32m   6314\u001b[0m \u001b[38;5;28;01mexcept\u001b[39;00m \u001b[38;5;167;01mAttributeError\u001b[39;00m:\n\u001b[0;32m   6315\u001b[0m     \u001b[38;5;28;01mpass\u001b[39;00m\n",
      "File \u001b[1;32mproperties.pyx:69\u001b[0m, in \u001b[0;36mpandas._libs.properties.AxisProperty.__set__\u001b[1;34m()\u001b[0m\n",
      "File \u001b[1;32mc:\\Users\\Pc\\AppData\\Local\\Programs\\Python\\Python312\\Lib\\site-packages\\pandas\\core\\generic.py:814\u001b[0m, in \u001b[0;36mNDFrame._set_axis\u001b[1;34m(self, axis, labels)\u001b[0m\n\u001b[0;32m    809\u001b[0m \u001b[38;5;250m\u001b[39m\u001b[38;5;124;03m\"\"\"\u001b[39;00m\n\u001b[0;32m    810\u001b[0m \u001b[38;5;124;03mThis is called from the cython code when we set the `index` attribute\u001b[39;00m\n\u001b[0;32m    811\u001b[0m \u001b[38;5;124;03mdirectly, e.g. `series.index = [1, 2, 3]`.\u001b[39;00m\n\u001b[0;32m    812\u001b[0m \u001b[38;5;124;03m\"\"\"\u001b[39;00m\n\u001b[0;32m    813\u001b[0m labels \u001b[38;5;241m=\u001b[39m ensure_index(labels)\n\u001b[1;32m--> 814\u001b[0m \u001b[38;5;28;43mself\u001b[39;49m\u001b[38;5;241;43m.\u001b[39;49m\u001b[43m_mgr\u001b[49m\u001b[38;5;241;43m.\u001b[39;49m\u001b[43mset_axis\u001b[49m\u001b[43m(\u001b[49m\u001b[43maxis\u001b[49m\u001b[43m,\u001b[49m\u001b[43m \u001b[49m\u001b[43mlabels\u001b[49m\u001b[43m)\u001b[49m\n\u001b[0;32m    815\u001b[0m \u001b[38;5;28mself\u001b[39m\u001b[38;5;241m.\u001b[39m_clear_item_cache()\n",
      "File \u001b[1;32mc:\\Users\\Pc\\AppData\\Local\\Programs\\Python\\Python312\\Lib\\site-packages\\pandas\\core\\internals\\managers.py:238\u001b[0m, in \u001b[0;36mBaseBlockManager.set_axis\u001b[1;34m(self, axis, new_labels)\u001b[0m\n\u001b[0;32m    236\u001b[0m \u001b[38;5;28;01mdef\u001b[39;00m \u001b[38;5;21mset_axis\u001b[39m(\u001b[38;5;28mself\u001b[39m, axis: AxisInt, new_labels: Index) \u001b[38;5;241m-\u001b[39m\u001b[38;5;241m>\u001b[39m \u001b[38;5;28;01mNone\u001b[39;00m:\n\u001b[0;32m    237\u001b[0m     \u001b[38;5;66;03m# Caller is responsible for ensuring we have an Index object.\u001b[39;00m\n\u001b[1;32m--> 238\u001b[0m     \u001b[38;5;28;43mself\u001b[39;49m\u001b[38;5;241;43m.\u001b[39;49m\u001b[43m_validate_set_axis\u001b[49m\u001b[43m(\u001b[49m\u001b[43maxis\u001b[49m\u001b[43m,\u001b[49m\u001b[43m \u001b[49m\u001b[43mnew_labels\u001b[49m\u001b[43m)\u001b[49m\n\u001b[0;32m    239\u001b[0m     \u001b[38;5;28mself\u001b[39m\u001b[38;5;241m.\u001b[39maxes[axis] \u001b[38;5;241m=\u001b[39m new_labels\n",
      "File \u001b[1;32mc:\\Users\\Pc\\AppData\\Local\\Programs\\Python\\Python312\\Lib\\site-packages\\pandas\\core\\internals\\base.py:98\u001b[0m, in \u001b[0;36mDataManager._validate_set_axis\u001b[1;34m(self, axis, new_labels)\u001b[0m\n\u001b[0;32m     95\u001b[0m     \u001b[38;5;28;01mpass\u001b[39;00m\n\u001b[0;32m     97\u001b[0m \u001b[38;5;28;01melif\u001b[39;00m new_len \u001b[38;5;241m!=\u001b[39m old_len:\n\u001b[1;32m---> 98\u001b[0m     \u001b[38;5;28;01mraise\u001b[39;00m \u001b[38;5;167;01mValueError\u001b[39;00m(\n\u001b[0;32m     99\u001b[0m         \u001b[38;5;124mf\u001b[39m\u001b[38;5;124m\"\u001b[39m\u001b[38;5;124mLength mismatch: Expected axis has \u001b[39m\u001b[38;5;132;01m{\u001b[39;00mold_len\u001b[38;5;132;01m}\u001b[39;00m\u001b[38;5;124m elements, new \u001b[39m\u001b[38;5;124m\"\u001b[39m\n\u001b[0;32m    100\u001b[0m         \u001b[38;5;124mf\u001b[39m\u001b[38;5;124m\"\u001b[39m\u001b[38;5;124mvalues have \u001b[39m\u001b[38;5;132;01m{\u001b[39;00mnew_len\u001b[38;5;132;01m}\u001b[39;00m\u001b[38;5;124m elements\u001b[39m\u001b[38;5;124m\"\u001b[39m\n\u001b[0;32m    101\u001b[0m     )\n",
      "\u001b[1;31mValueError\u001b[0m: Length mismatch: Expected axis has 2 elements, new values have 5 elements"
     ]
    }
   ],
   "source": [
    "df = get_tradingview_market_data()\n",
    "print(df.head())"
   ]
  }
 ],
 "metadata": {
  "kernelspec": {
   "display_name": "Python 3",
   "language": "python",
   "name": "python3"
  },
  "language_info": {
   "codemirror_mode": {
    "name": "ipython",
    "version": 3
   },
   "file_extension": ".py",
   "mimetype": "text/x-python",
   "name": "python",
   "nbconvert_exporter": "python",
   "pygments_lexer": "ipython3",
   "version": "3.12.3"
  }
 },
 "nbformat": 4,
 "nbformat_minor": 2
}
