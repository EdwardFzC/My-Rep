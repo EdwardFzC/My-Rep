{
 "cells": [
  {
   "cell_type": "markdown",
   "metadata": {},
   "source": [
    "##### Funciona para datos de pagina especifica de banxico"
   ]
  },
  {
   "cell_type": "markdown",
   "metadata": {},
   "source": [
    "###### https://www.banxico.org.mx/Indicadores/consulta/Instrumentos.action"
   ]
  },
  {
   "cell_type": "markdown",
   "metadata": {},
   "source": [
    "##### ***Problema con muchos NA***"
   ]
  },
  {
   "cell_type": "markdown",
   "metadata": {},
   "source": [
    "#### Caso obtener TIIE (tasa interbancaria de equilibrio)"
   ]
  },
  {
   "cell_type": "code",
   "execution_count": 3,
   "metadata": {},
   "outputs": [],
   "source": [
    "import fitz  # PyMuPDF\n",
    "import pandas as pd\n",
    "import re"
   ]
  },
  {
   "cell_type": "code",
   "execution_count": 4,
   "metadata": {},
   "outputs": [],
   "source": [
    "# Abrir el PDF\n",
    "archivo_pdf = \"C:/Users/Pc/Downloads/InstrumentosPDF.pdf\"\n",
    "documento = fitz.open(archivo_pdf)"
   ]
  },
  {
   "cell_type": "code",
   "execution_count": 5,
   "metadata": {},
   "outputs": [],
   "source": [
    "\n",
    "# Leer el contenido del PDF y buscar tablas\n",
    "texto_completo = \"\"\n",
    "for pagina in documento:\n",
    "    texto_completo += pagina.get_text()\n",
    "\n",
    "# Nota: Este ejemplo asume que las tablas tienen un formato específico que se puede identificar por texto.\n",
    "# Si las tablas están en un formato más complejo (como imágenes o formatos no estándar),\n",
    "# se necesitaría una herramienta más avanzada para el análisis de tablas."
   ]
  },
  {
   "cell_type": "code",
   "execution_count": 6,
   "metadata": {},
   "outputs": [],
   "source": [
    "# Extraer fechas y tasas de interés\n",
    "# Este es un ejemplo de cómo podrías buscar fechas y tasas de interés en el texto.\n",
    "# Necesitarás ajustar las expresiones regulares según el formato exacto de tu PDF.\n",
    "\n",
    "# Ejemplo de expresiones regulares para fechas y tasas de interés\n",
    "patron_fecha = r\"\\d{2}/\\d{2}/\\d{4}\"  # DD/MM/AAAA\n",
    "patron_tasa_interes = r\"\\d+\\.\\d\"  # Números con decimales\n",
    "\n",
    "fechas = re.findall(patron_fecha, texto_completo)\n",
    "tasas_interes = re.findall(patron_tasa_interes, texto_completo)\n",
    "\n",
    "fechas = fechas[2:]\n",
    "# Nota al tener 2 valores nulos al inicio se eliminan las primeras 2 filas"
   ]
  },
  {
   "cell_type": "code",
   "execution_count": 10,
   "metadata": {},
   "outputs": [
    {
     "data": {
      "text/html": [
       "<div>\n",
       "<style scoped>\n",
       "    .dataframe tbody tr th:only-of-type {\n",
       "        vertical-align: middle;\n",
       "    }\n",
       "\n",
       "    .dataframe tbody tr th {\n",
       "        vertical-align: top;\n",
       "    }\n",
       "\n",
       "    .dataframe thead th {\n",
       "        text-align: right;\n",
       "    }\n",
       "</style>\n",
       "<table border=\"1\" class=\"dataframe\">\n",
       "  <thead>\n",
       "    <tr style=\"text-align: right;\">\n",
       "      <th></th>\n",
       "      <th>Fecha</th>\n",
       "      <th>Tasa de Interés</th>\n",
       "    </tr>\n",
       "  </thead>\n",
       "  <tbody>\n",
       "    <tr>\n",
       "      <th>0</th>\n",
       "      <td>01/03/1995</td>\n",
       "      <td>89.4</td>\n",
       "    </tr>\n",
       "    <tr>\n",
       "      <th>1</th>\n",
       "      <td>01/04/1995</td>\n",
       "      <td>85.2</td>\n",
       "    </tr>\n",
       "    <tr>\n",
       "      <th>2</th>\n",
       "      <td>01/05/1995</td>\n",
       "      <td>60.4</td>\n",
       "    </tr>\n",
       "    <tr>\n",
       "      <th>3</th>\n",
       "      <td>01/06/1995</td>\n",
       "      <td>49.5</td>\n",
       "    </tr>\n",
       "    <tr>\n",
       "      <th>4</th>\n",
       "      <td>01/07/1995</td>\n",
       "      <td>43.0</td>\n",
       "    </tr>\n",
       "  </tbody>\n",
       "</table>\n",
       "</div>"
      ],
      "text/plain": [
       "        Fecha Tasa de Interés\n",
       "0  01/03/1995            89.4\n",
       "1  01/04/1995            85.2\n",
       "2  01/05/1995            60.4\n",
       "3  01/06/1995            49.5\n",
       "4  01/07/1995            43.0"
      ]
     },
     "execution_count": 10,
     "metadata": {},
     "output_type": "execute_result"
    }
   ],
   "source": [
    "\n",
    "# Revisar tamaño de array y crear base de datos\n",
    "if len(fechas) == len(tasas_interes):\n",
    "    # data frame con fechas y datos\n",
    "    datos = {\"Fecha\": fechas, \"Tasa de Interés\": tasas_interes}\n",
    "    df = pd.DataFrame(datos)\n",
    "else:\n",
    "    print(\"Error: The arrays have different lengths.\")\n",
    "df.head()"
   ]
  },
  {
   "cell_type": "code",
   "execution_count": null,
   "metadata": {},
   "outputs": [],
   "source": [
    "\n",
    "# Guardar el DataFrame en un nuevo archivo excel\n",
    "nombre_archivo_salida = \"C:/Users/Pc/Downloads/TasasDeInteresExtraidas.xlsx\"\n",
    "df.to_excel(nombre_archivo_salida, index=False)\n",
    "\n",
    "print(f\"Archivo guardado: {nombre_archivo_salida}\")"
   ]
  }
 ],
 "metadata": {
  "kernelspec": {
   "display_name": "Python 3",
   "language": "python",
   "name": "python3"
  },
  "language_info": {
   "codemirror_mode": {
    "name": "ipython",
    "version": 3
   },
   "file_extension": ".py",
   "mimetype": "text/x-python",
   "name": "python",
   "nbconvert_exporter": "python",
   "pygments_lexer": "ipython3",
   "version": "3.12.3"
  }
 },
 "nbformat": 4,
 "nbformat_minor": 2
}
